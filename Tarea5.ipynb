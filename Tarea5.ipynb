{
  "nbformat": 4,
  "nbformat_minor": 0,
  "metadata": {
    "colab": {
      "name": "Te damos la bienvenida a Colaboratory",
      "provenance": [],
      "collapsed_sections": [],
      "toc_visible": true,
      "include_colab_link": true
    },
    "kernelspec": {
      "display_name": "Python 3",
      "name": "python3"
    }
  },
  "cells": [
    {
      "cell_type": "markdown",
      "metadata": {
        "id": "view-in-github",
        "colab_type": "text"
      },
      "source": [
        "<a href=\"https://colab.research.google.com/github/richardrusa8/cyp_2021/blob/main/Tarea5.ipynb\" target=\"_parent\"><img src=\"https://colab.research.google.com/assets/colab-badge.svg\" alt=\"Open In Colab\"/></a>"
      ]
    },
    {
      "cell_type": "code",
      "metadata": {
        "id": "BPjMpMXKRLgW"
      },
      "source": [
        "#Ejercicio 3.1\r\n",
        "import array\r\n",
        "array.array('f')\r\n",
        "sueldos = array.array('f',(0 for i in range(0, 10)))\r\n",
        "\r\n",
        "nomina = float(0)\r\n",
        "\r\n",
        "for i in range (0, 10): #Lleva el control del numero de sueldos \r\n",
        "  sueldos[i] = int(input(f\"Ingresa el {i+1} sueldo: \")) #el +1 es principalmente porque el array empieza en el 0 y asi empieza en la posicion 1\r\n",
        "  nomina += sueldos[i]\r\n",
        "\r\n",
        "print(\"La nomina de la empresa con base a los sueldos es: \", nomina)"
      ],
      "execution_count": null,
      "outputs": []
    },
    {
      "cell_type": "code",
      "metadata": {
        "id": "8nfNBF5CRWJ6"
      },
      "source": [
        "#Ejercicio 3.4\r\n",
        "\r\n",
        "import array\r\n",
        "array.array('f')\r\n",
        "gastos = array.array('f',(0 for i in range(0, 999)))\r\n",
        "a = int(0)\r\n",
        "yes_no = ''\r\n",
        "total_gastos = float(0)\r\n",
        "\r\n",
        "while True:\r\n",
        "  gastos[a] = float(input(f\"¿De cuanto fue el {a+1} gasto?: \"))\r\n",
        "  total_gastos += gastos[a]\r\n",
        "  while True: \r\n",
        "    yes_no = ''\r\n",
        "    yes_no = str(input(\"¿Hubo algún otro gasto? S/N: \"))#continuar el ciclo o salir\r\n",
        "    if yes_no == 's' or yes_no == 'S' or yes_no == 'n' or yes_no == 'N':\r\n",
        "      break;\r\n",
        "    else:\r\n",
        "      print(\"Debes ingresar S o N para continuar.\\n\")#continuar el ciclo o salir\r\n",
        "  if yes_no == 'n' or yes_no == 'N':\r\n",
        "    break;\r\n",
        "  elif yes_no == 's' or yes_no == 'S':\r\n",
        "    a += 1\r\n",
        "\r\n",
        "print(\"\\nEl total de gastos durante el viaje es de: \",total_gastos)\r\n",
        "print(\"\\nLos gastos individuales son:\\n\")\r\n",
        "\r\n",
        "for i in range (0, a+1):\r\n",
        "  print(f\"{i+1} gasto es de: {gastos[i]}\")"
      ],
      "execution_count": null,
      "outputs": []
    }
  ]
}