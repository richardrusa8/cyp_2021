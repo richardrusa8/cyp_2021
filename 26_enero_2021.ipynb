{
  "nbformat": 4,
  "nbformat_minor": 0,
  "metadata": {
    "colab": {
      "name": "Te damos la bienvenida a Colaboratory",
      "provenance": [],
      "collapsed_sections": [],
      "toc_visible": true,
      "include_colab_link": true
    },
    "kernelspec": {
      "display_name": "Python 3",
      "name": "python3"
    }
  },
  "cells": [
    {
      "cell_type": "markdown",
      "metadata": {
        "id": "view-in-github",
        "colab_type": "text"
      },
      "source": [
        "<a href=\"https://colab.research.google.com/github/richardrusa8/cyp_2021/blob/main/26_enero_2021.ipynb\" target=\"_parent\"><img src=\"https://colab.research.google.com/assets/colab-badge.svg\" alt=\"Open In Colab\"/></a>"
      ]
    },
    {
      "cell_type": "markdown",
      "metadata": {
        "id": "gNPZQSiuJfDI"
      },
      "source": [
        "# Listas de Python 3\r\n",
        "1. Es una estructura de daros lineal de 0 o n elementos. \r\n",
        "1. \"Equivalentes\" a los arreglos.\r\n",
        "1. Pueden ser de diferentes tipo de dato. [1,2,32,12] , [1, True, 2.34, \"hola\"]\r\n",
        "1. Pueden ser anidados, listas de listas.\r\n",
        "[\"Meñón\", [\"manzana roja\", \"manzana amarilla\"]  ] \r\n",
        "1. Su selector es de la forma: [ int ]\r\n",
        "1. Son mutables. "
      ]
    },
    {
      "cell_type": "code",
      "metadata": {
        "id": "SFMHVCuuJi0d",
        "outputId": "4f04b560-2b5e-45cc-b305-29e35ea3d69a",
        "colab": {
          "base_uri": "https://localhost:8080/"
        }
      },
      "source": [
        "#ejemplos\r\n",
        "numeros=[4,2,45,7,83,3]\r\n",
        "print(numeros)\r\n",
        "print(numeros[2])\r\n",
        "\r\n",
        "#una lista de 0 elementos\r\n",
        "colores=[] #list()\r\n",
        "type(colores) #averigua que tipo de dato es una variable cn la funcion type()\r\n",
        "dias=list()\r\n",
        "print(colores)\r\n",
        "print(dias)"
      ],
      "execution_count": 1,
      "outputs": [
        {
          "output_type": "stream",
          "text": [
            "[4, 2, 45, 7, 83, 3]\n",
            "45\n",
            "[]\n",
            "[]\n"
          ],
          "name": "stdout"
        }
      ]
    },
    {
      "cell_type": "code",
      "metadata": {
        "id": "0VOJcjETJktW",
        "outputId": "de754d16-3fd4-46ae-c0e8-9d9579eecdb9",
        "colab": {
          "base_uri": "https://localhost:8080/"
        }
      },
      "source": [
        "#Pueden ser de diferentes tipo de datos\r\n",
        "mi_lista=[1,2,3,\"José\",False,1.76,[5535231298,445558377442,5530708637]]\r\n",
        "print(mi_lista)\r\n",
        "print(mi_lista[5])\r\n",
        "print(mi_lista[6][2])\r\n",
        "print(mi_lista[3][3])\r\n",
        "print(mi_lista[3][3::])"
      ],
      "execution_count": 2,
      "outputs": [
        {
          "output_type": "stream",
          "text": [
            "[1, 2, 3, 'José', False, 1.76, [5535231298, 445558377442, 5530708637]]\n",
            "1.76\n",
            "5530708637\n",
            "é\n",
            "é\n"
          ],
          "name": "stdout"
        }
      ]
    },
    {
      "cell_type": "code",
      "metadata": {
        "id": "clht7pUgJmgd",
        "outputId": "b05dee99-f4ef-4d09-c46f-41968d449f71",
        "colab": {
          "base_uri": "https://localhost:8080/"
        }
      },
      "source": [
        "frutas=[\"melon\", \"sandia\", \"kiwi\", \"aguacate\", \"mango\",\"platano\"]\r\n",
        "print(frutas)\r\n",
        "frutas[0]=\"Melón\"\r\n",
        "print(frutas)\r\n",
        "frutas[1]=frutas[1].capitalize()\r\n",
        "print(frutas)"
      ],
      "execution_count": 3,
      "outputs": [
        {
          "output_type": "stream",
          "text": [
            "['melon', 'sandia', 'kiwi', 'aguacate', 'mango', 'platano']\n",
            "['Melón', 'sandia', 'kiwi', 'aguacate', 'mango', 'platano']\n",
            "['Melón', 'Sandia', 'kiwi', 'aguacate', 'mango', 'platano']\n"
          ],
          "name": "stdout"
        }
      ]
    },
    {
      "cell_type": "code",
      "metadata": {
        "id": "y3B05nPLJo72",
        "outputId": "efe44249-54ba-43b0-ae8d-3c725ba8c4ec",
        "colab": {
          "base_uri": "https://localhost:8080/"
        }
      },
      "source": [
        "#Las listas son clases, por lo tanto tienen métodos\r\n",
        "#ejem´plo: Append, agrega un elemento al final\r\n",
        "frutas=[\"melon\", \"sandia\", \"kiwi\", \"aguacate\", \"mango\",\"platano\"]\r\n",
        "frutas.append(\"Fresa\")\r\n",
        "print(frutas)\r\n",
        "\r\n",
        "print(\"Ejemplo de copias\")\r\n",
        "otras_frutas=frutas.copy()\r\n",
        "print(frutas)\r\n",
        "print(otras_frutas)\r\n",
        "print(\"\")\r\n",
        "otras_frutas[0]=\"Chico  Zapote\"\r\n",
        "print(otras_frutas)\r\n",
        "print(frutas)\r\n",
        "print(\"-----------\")\r\n",
        "\r\n",
        "print(\"Ejemplo de extend\")\r\n",
        "\r\n",
        "colores=[\"rojo\", \"verde\",\"azul\"]\r\n",
        "frutas.extend(colores)\r\n",
        "print(frutas)\r\n",
        "\r\n",
        "print(\"Ejemplo insert\")\r\n",
        "print(f\"Tamaño de la lista = {len(frutas)}\")\r\n",
        "frutas.insert(3,\"Limón\")\r\n",
        "print(f\"Tamaño de la lista = {len(frutas)}\")\r\n",
        "print(frutas)\r\n",
        "\r\n",
        "print(\"Ejemplo REMOVE, eliminar el kiwi\")\r\n",
        "frutas.remove(\"kiwi\")\r\n",
        "print(frutas)\r\n",
        "\r\n",
        "\r\n",
        "print(\"Ejemplo con el operador  del \")\r\n",
        "del frutas[2] #operador de listas\r\n",
        "print(frutas)\r\n",
        "\r\n",
        "frutas.clear()\r\n",
        "print(frutas)"
      ],
      "execution_count": 4,
      "outputs": [
        {
          "output_type": "stream",
          "text": [
            "['melon', 'sandia', 'kiwi', 'aguacate', 'mango', 'platano', 'Fresa']\n",
            "Ejemplo de copias\n",
            "['melon', 'sandia', 'kiwi', 'aguacate', 'mango', 'platano', 'Fresa']\n",
            "['melon', 'sandia', 'kiwi', 'aguacate', 'mango', 'platano', 'Fresa']\n",
            "\n",
            "['Chico  Zapote', 'sandia', 'kiwi', 'aguacate', 'mango', 'platano', 'Fresa']\n",
            "['melon', 'sandia', 'kiwi', 'aguacate', 'mango', 'platano', 'Fresa']\n",
            "-----------\n",
            "Ejemplo de extend\n",
            "['melon', 'sandia', 'kiwi', 'aguacate', 'mango', 'platano', 'Fresa', 'rojo', 'verde', 'azul']\n",
            "Ejemplo insert\n",
            "Tamaño de la lista = 10\n",
            "Tamaño de la lista = 11\n",
            "['melon', 'sandia', 'kiwi', 'Limón', 'aguacate', 'mango', 'platano', 'Fresa', 'rojo', 'verde', 'azul']\n",
            "Ejemplo REMOVE, eliminar el kiwi\n",
            "['melon', 'sandia', 'Limón', 'aguacate', 'mango', 'platano', 'Fresa', 'rojo', 'verde', 'azul']\n",
            "Ejemplo con el operador  del \n",
            "['melon', 'sandia', 'aguacate', 'mango', 'platano', 'Fresa', 'rojo', 'verde', 'azul']\n",
            "[]\n"
          ],
          "name": "stdout"
        }
      ]
    },
    {
      "cell_type": "code",
      "metadata": {
        "id": "YEyIPmavJsZ0"
      },
      "source": [
        "dir(frutas)"
      ],
      "execution_count": null,
      "outputs": []
    },
    {
      "cell_type": "code",
      "metadata": {
        "id": "8WTVISvUJuon",
        "outputId": "2a77c69b-fbfc-4bd1-cda5-2442cdae9f8b",
        "colab": {
          "base_uri": "https://localhost:8080/"
        }
      },
      "source": [
        "cosas = [\"jose\", True, 2, 3, 4, 5, \"pedro\", 1.23]\r\n",
        "aux = []\r\n",
        "for elemento in cosas:\r\n",
        "    if type(elemento) != int:\r\n",
        "        aux.append(elemento)\r\n",
        "print(cosas)\r\n",
        "print(aux)"
      ],
      "execution_count": 6,
      "outputs": [
        {
          "output_type": "stream",
          "text": [
            "['jose', True, 2, 3, 4, 5, 'pedro', 1.23]\n",
            "['jose', True, 'pedro', 1.23]\n"
          ],
          "name": "stdout"
        }
      ]
    },
    {
      "cell_type": "code",
      "metadata": {
        "id": "z_Rz0AS6Jw2K",
        "outputId": "6cfdef95-e2b5-45a2-e007-5da1dcf29117",
        "colab": {
          "base_uri": "https://localhost:8080/"
        }
      },
      "source": [
        "#slicing sobre listas\r\n",
        "\r\n",
        "frutas=[\"melon\",\"sandia\",\"kiwi\",\"aguacate\",\"mango\",\"platano\"]\r\n",
        "\r\n",
        "print(frutas[1:4:])\r\n",
        "\r\n",
        "\r\n",
        "sistemas_operativos=[\"Windows\",\"Mac Os\",\"Linux\",\"Android\"]\r\n",
        "autos=[\"Ford\",\"Mazda\",\"Honda\"]\r\n",
        "\r\n",
        "cosas = [sistemas_operativos, autos]\r\n",
        "print(cosas)\r\n",
        "print(cosas[1])\r\n",
        "print(cosas[0][2])\r\n",
        "print(cosas[0][3][2:5:1])\r\n",
        "print(cosas[1][1][4:1:-1])"
      ],
      "execution_count": 7,
      "outputs": [
        {
          "output_type": "stream",
          "text": [
            "['sandia', 'kiwi', 'aguacate']\n",
            "[['Windows', 'Mac Os', 'Linux', 'Android'], ['Ford', 'Mazda', 'Honda']]\n",
            "['Ford', 'Mazda', 'Honda']\n",
            "Linux\n",
            "dro\n",
            "adz\n"
          ],
          "name": "stdout"
        }
      ]
    }
  ]
}