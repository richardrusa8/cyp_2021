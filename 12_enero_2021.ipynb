{
  "nbformat": 4,
  "nbformat_minor": 0,
  "metadata": {
    "colab": {
      "name": "Te damos la bienvenida a Colaboratory",
      "provenance": [],
      "collapsed_sections": [],
      "toc_visible": true,
      "include_colab_link": true
    },
    "kernelspec": {
      "display_name": "Python 3",
      "name": "python3"
    }
  },
  "cells": [
    {
      "cell_type": "markdown",
      "metadata": {
        "id": "view-in-github",
        "colab_type": "text"
      },
      "source": [
        "<a href=\"https://colab.research.google.com/github/richardrusa8/cyp_2021/blob/main/12_enero_2021.ipynb\" target=\"_parent\"><img src=\"https://colab.research.google.com/assets/colab-badge.svg\" alt=\"Open In Colab\"/></a>"
      ]
    },
    {
      "cell_type": "markdown",
      "metadata": {
        "id": "BJKy-gCRA2C1"
      },
      "source": [
        "# Introducción a Python\r\n",
        "- Creado en los 90's por Guido Ban R. \r\n",
        "- En el 2000 Python mejora y tienen nuevas características.\r\n",
        "- 2020 Deja de ser la versión oficial Python 2.7 y solo se dará soporte a Python 3 en adelante.\r\n",
        "\r\n",
        "## Características de Python\r\n",
        "1. Lenguaje de propósito general\r\n",
        "2. Interpretado y no-compilado\r\n",
        "3. Tipos de datos dinámicos. (Numéricos, de cadena, bool, entre otros).\r\n",
        "4. Multiplataforma\r\n",
        "5. Lenguaje multi-paradigma. (Imperativa, POO y funcional).\r\n",
        "6. Código es estructurado por identación\r\n",
        "\r\n",
        "```\r\n",
        "if a > 10 :\r\n",
        "    print( \"Hola\" )\r\n",
        "print(\"hola dos\")\r\n",
        "````\r\n",
        "\r\n",
        "## Principios de Python\r\n",
        "\r\n",
        "Son las características que guían el diseño del lenguaje de programación de Python"
      ]
    },
    {
      "cell_type": "code",
      "metadata": {
        "id": "TOVr0K3QB9z-"
      },
      "source": [
        "# Primer programa en Python 3 \r\n",
        "\r\n",
        "nombre = \"José\"\r\n",
        "edad = 18\r\n",
        "print(\"Hola\" , nombre , edad )"
      ],
      "execution_count": null,
      "outputs": []
    },
    {
      "cell_type": "markdown",
      "metadata": {
        "id": "DPuuSEM8CE4b"
      },
      "source": [
        "# La función print()\r\n",
        "\r\n",
        "Es una de las funciones más empleadas en programación y busca enviar datos a la salida estandar(monitor)\r\n",
        "\r\n",
        "### Formas de uso\r\n",
        "1. Con comas \r\n",
        "1. Con signos +\r\n",
        "1. .format()\r\n",
        "1. el operador f\"\r\n",
        "\r\n",
        "#### con comas \r\n",
        "Concatena los argumentos enviados a print les agrega un espacio.\r\n",
        "\r\n",
        "#### con signos +\r\n",
        "Concatena los valores sin espacio y sin hacer conversión de tipos.\r\n",
        "\r\n",
        "#### con la función format()\r\n",
        "Permite darle dormato a la salida de impresioón variables. Emplea la función format del tipo de dato String.\r\n",
        "\r\n",
        "```\r\n",
        "\" cadena {} a {} forma{}tear \".format(v1,v2,vn)\r\n",
        "```\r\n",
        "Emplea como comodines para sustior valores de signos {}.\r\n",
        "\r\n",
        "### Con operador f\"\"\r\n",
        "\r\n",
        "Es una varianre de la forma anterior pero enmascarando la función format().\r\n",
        "print/f\" adadasd {var} asdasd{var2}asdasd{varn}"
      ]
    },
    {
      "cell_type": "code",
      "metadata": {
        "id": "wOugLEahCT6L"
      },
      "source": [
        "print(\"Hola\" , nombre , edad )\r\n",
        "print(\"Hola\" + nombre +str(edad) )\r\n",
        "# Nombre: José, con una edad de :18 años.\r\n",
        "print(\"Nombre:\", nombre, \"Con una edad de:\", edad , \"años\")\r\n",
        "print(\"Nombre: \" + nombre  +  \" Con una edad de:\" + str(edad) + \" años\")\r\n",
        "# con format ()\r\n",
        "print(\"Nombre: {1} con una edad de: {1} años.\".format(nombre,edad))\r\n",
        "#con el operador f\"\"\r\n",
        "print(f\"Nombre: {nombre} con una edad de: {edad} años\")"
      ],
      "execution_count": null,
      "outputs": []
    },
    {
      "cell_type": "markdown",
      "metadata": {
        "id": "AsCULHVwCZwr"
      },
      "source": [
        "# Función print() y los carácteres de escape.\r\n",
        "- \\n salto de línea\r\n",
        "- \\t tabulador\r\n",
        "- \\\\ imprimir la diagonal \\\r\n",
        "- \\' y \\\"\r\n",
        "- \\uxxxx\r\n",
        "- \\uxxxxxxx"
      ]
    },
    {
      "cell_type": "code",
      "metadata": {
        "id": "i0fmy8spCdfI"
      },
      "source": [
        "print('\"')\r\n",
        "print(\"\\\"\")\r\n",
        "print(\"Nombre: José\\n\\tcon una edad \\\\de: 18 años.\")\r\n",
        "#caracteres unicode\r\n",
        "\r\n",
        "print(\"Hola \\u2661\" )"
      ],
      "execution_count": null,
      "outputs": []
    },
    {
      "cell_type": "markdown",
      "metadata": {
        "id": "WHiyux0ACj4v"
      },
      "source": [
        "## print y salto de línea en el argumento.\r\n",
        "\r\n",
        "print([lista de variables], end=\"\\n\")"
      ]
    },
    {
      "cell_type": "code",
      "metadata": {
        "id": "e3J_CB-nClbj"
      },
      "source": [
        "print(\"Hola \" ,  end=\"\\u13CD\")\r\n",
        "print(\"Mundo  \" , end=\"++++\")\r\n",
        "print(\"Fin\" , end=\"\\n\")"
      ],
      "execution_count": null,
      "outputs": []
    },
    {
      "cell_type": "markdown",
      "metadata": {
        "id": "FlDLVQgbCoW0"
      },
      "source": [
        "# Comentarios en Python.\r\n",
        "Un comentario en programación, es un texto especial que es ignorado por el interprete o compilador (Según dea el caso) y es empleado para que el programador documente sus algoritmos.\r\n",
        "\r\n",
        "Existen de dos tipos: De línea simple y múltiple línea.\r\n",
        "\r\n",
        "En Python.\r\n",
        "- Línea simple emplea #\r\n",
        "\r\n",
        "- Línea múltiple\r\n",
        "\r\n",
        "```\r\n",
        "Esto\r\n",
        "esun comentario de \r\n",
        "linea\r\n",
        "multiple\r\n",
        "```"
      ]
    },
    {
      "cell_type": "code",
      "metadata": {
        "id": "3xdtL_EqCuJz"
      },
      "source": [
        "print(\"Hola\")\r\n",
        "# print (\"Hola\")\r\n",
        "# cualquier cosa \r\n",
        "print(\"Hola\")\r\n",
        "print(\"Hola\") # esta liínea imprime hola\r\n",
        "print(\"Hola\")\r\n",
        "print(\"Hola\")\r\n",
        "\"\"\"\r\n",
        "esto es\r\n",
        "un comentario de múltiple lunea. Ideal\r\n",
        "para cuando se desea explicar algo a fondo que requiera mayor detales.\r\n",
        "\r\n",
        "\"\"\"\r\n",
        "\r\n",
        "print(\"Hola\")\r\n",
        "print(\"Hola\")\r\n",
        "print(\"Hola\")\r\n",
        "print(\"Hola\")"
      ],
      "execution_count": null,
      "outputs": []
    }
  ]
}