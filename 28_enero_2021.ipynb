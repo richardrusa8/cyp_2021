{
  "nbformat": 4,
  "nbformat_minor": 0,
  "metadata": {
    "colab": {
      "name": "Te damos la bienvenida a Colaboratory",
      "provenance": [],
      "collapsed_sections": [],
      "toc_visible": true,
      "include_colab_link": true
    },
    "kernelspec": {
      "display_name": "Python 3",
      "name": "python3"
    }
  },
  "cells": [
    {
      "cell_type": "markdown",
      "metadata": {
        "id": "view-in-github",
        "colab_type": "text"
      },
      "source": [
        "<a href=\"https://colab.research.google.com/github/richardrusa8/cyp_2021/blob/main/28_enero_2021.ipynb\" target=\"_parent\"><img src=\"https://colab.research.google.com/assets/colab-badge.svg\" alt=\"Open In Colab\"/></a>"
      ]
    },
    {
      "cell_type": "code",
      "metadata": {
        "id": "85Xz3MHJcF2-"
      },
      "source": [
        "# Tuplas\r\n",
        "* Tipo de dato lineal, estructura de datos\r\n",
        "* No mutable\r\n",
        "* Puede contener de 0 a n elementos\r\n",
        "* Se declara con '(' y ')'\r\n",
        "* No puedes agregar ni eliminar elementos\r\n",
        "* Pueden ser anidados\r\n",
        "* Los argumentos a una funcion son enviadas como tuplas"
      ],
      "execution_count": null,
      "outputs": []
    },
    {
      "cell_type": "code",
      "metadata": {
        "id": "SScqefBdcGg7",
        "outputId": "02278e79-2482-4b17-c8da-c85c1c8c7137",
        "colab": {
          "base_uri": "https://localhost:8080/"
        }
      },
      "source": [
        "frutas= (\"Sandía\", \"Melón\", \"Limón\", \"Mango\", \"Melón\") \r\n",
        "print(frutas)\r\n",
        "print(frutas[1:3:1])\r\n",
        "print(frutas.count(\"Melón\"))\r\n",
        "\r\n",
        "#Son inmutables\r\n",
        "#frutas[1] = \"manzana\"\r\n",
        "\r\n",
        "#pa que se usan\r\n",
        "conexion= ('132.248.12.12', 3306, 'cyp_bd', 'usr_test', '1234dios')\r\n",
        "print(f\"usuario: {conexion[3]}, password: {conexion[4]}\")"
      ],
      "execution_count": 8,
      "outputs": [
        {
          "output_type": "stream",
          "text": [
            "('Sandía', 'Melón', 'Limón', 'Mango', 'Melón')\n",
            "('Melón', 'Limón')\n",
            "2\n",
            "usuario: usr_test, password: 1234dios\n"
          ],
          "name": "stdout"
        }
      ]
    },
    {
      "cell_type": "markdown",
      "metadata": {
        "id": "aXDc2F3-cLUq"
      },
      "source": [
        "# Diccionario\r\n",
        "* Estructura de datos semilineal\r\n",
        "* Formada por pares, llave - valor\r\n",
        "* Equivalente al tipo de dato JSON, de Javascript\r\n",
        "* Utiliza organizacion por funcion de dispersion\r\n",
        "* Se declara con los elementos '{' y '}'\r\n",
        "* El selector usa valores de tipo string (llave)\r\n",
        "* No se puede seleccionar por offset {1}\r\n",
        "* Son mutables"
      ]
    },
    {
      "cell_type": "code",
      "metadata": {
        "id": "koJx1S2XcPJe"
      },
      "source": [
        "alumno= {'nombre':'Juan Pérez', \r\n",
        "         'edad': 18, \r\n",
        "         'numero de cuenta': 321084613, \r\n",
        "         'grupo':1157, \r\n",
        "         'numeros':[\"04455456846\", \"55826456\"],\r\n",
        "         'Materias':[\"Algebra\", \"Computadoras y Programacion\", \"Calculo Diferencial e Integral\", \"Introduccion a la Ingenieria en Computacion\", \"Geometria Analitica\"]\r\n",
        "}\r\n",
        "print(alumno)\r\n",
        "print(f\"celular del alumno {alumno['numeros'][0]}\")"
      ],
      "execution_count": null,
      "outputs": []
    },
    {
      "cell_type": "code",
      "metadata": {
        "id": "cYjgt67VcSV0",
        "outputId": "79ad096b-e4ff-4ab8-dfb9-739b9e35b50c",
        "colab": {
          "base_uri": "https://localhost:8080/"
        }
      },
      "source": [
        "#  kareli\r\n",
        "alumno = {    'nombre'  : 'Juan Pérez'  ,\r\n",
        "          'edad' : 18, \r\n",
        "          'Matricula': 312193,\r\n",
        "          'calificaciones' : {'Mate': 8 , 'ciencias': 9, 'ingles': 8 },\r\n",
        "          'aprovado' : True,\r\n",
        "          'direccion': {\r\n",
        "                        'calle':'Rancho seco',\r\n",
        "                        'numero': 's/n',\r\n",
        "                        'colonia': 'impulsora popular avicola',\r\n",
        "                        'municipio': 'Mi-nezota',\r\n",
        "                        'estado':{\r\n",
        "                                   'clave':15,\r\n",
        "                                   'nombre_clave':'MEX',\r\n",
        "                                   'nombre':\"Estado de México\"\r\n",
        "                                  }\r\n",
        "                       }\r\n",
        "          }\r\n",
        "\r\n",
        "print(alumno)\r\n",
        "print(alumno['nombre'])\r\n",
        "print(alumno['calificaciones'])\r\n",
        "# 9 calificacion en ciencias??????\r\n",
        "print( alumno['calificaciones']['ciencias'])\r\n",
        "#Nombre, todo en mayusculas\r\n",
        "print(alumno)\r\n"
      ],
      "execution_count": 7,
      "outputs": [
        {
          "output_type": "stream",
          "text": [
            "{'nombre': 'Juan Pérez', 'edad': 18, 'Matricula': 312193, 'calificaciones': {'Mate': 8, 'ciencias': 9, 'ingles': 8}, 'aprovado': True, 'direccion': {'calle': 'Rancho seco', 'numero': 's/n', 'colonia': 'impulsora popular avicola', 'municipio': 'Mi-nezota', 'estado': {'clave': 15, 'nombre_clave': 'MEX', 'nombre': 'Estado de México'}}}\n",
            "Juan Pérez\n",
            "{'Mate': 8, 'ciencias': 9, 'ingles': 8}\n",
            "9\n",
            "{'nombre': 'Juan Pérez', 'edad': 18, 'Matricula': 312193, 'calificaciones': {'Mate': 8, 'ciencias': 9, 'ingles': 8}, 'aprovado': True, 'direccion': {'calle': 'Rancho seco', 'numero': 's/n', 'colonia': 'impulsora popular avicola', 'municipio': 'Mi-nezota', 'estado': {'clave': 15, 'nombre_clave': 'MEX', 'nombre': 'Estado de México'}}}\n"
          ],
          "name": "stdout"
        }
      ]
    },
    {
      "cell_type": "code",
      "metadata": {
        "id": "naeTvoSKcVn-"
      },
      "source": [
        "alumno = { 'nombre' : 'Juan Pérez' , 'edad' : 18}\r\n",
        "print( alumno )\r\n",
        "print( alumno['nombre'] )\r\n",
        "\r\n",
        "list_al = [\"Luis\" , \"Eduardo\" , \"Arturo\"]\r\n",
        "list_ed = [ \"18\" ,\"23\",\"20\"]\r\n",
        "es = ('aprovado', 'reprovado')\r\n",
        "\r\n",
        "\r\n",
        "print(f\"alumno: {list_al[0]} edad: {list_ed [0]} \\n estado en la matria: {es [0]}\")\r\n",
        "print(f\"alumno: {list_al[1]} edad: {list_ed [1]} \\n estado en la matria: {es [1]}\")\r\n",
        "print(f\"alumno: {list_al[2]} edad: {list_ed [2]} \\n estado en la matria: {es [0]}\")"
      ],
      "execution_count": null,
      "outputs": []
    },
    {
      "cell_type": "code",
      "metadata": {
        "id": "DIh1eQbscYO0"
      },
      "source": [
        "#Juan Miguel\r\n",
        "\r\n",
        "alumno = {'nombre':'Juan Pérez','edad':18,'altura':1.71,'estatus':'Aprobado','numeros':[555645902, 55326372]}\r\n",
        "print(alumno)\r\n",
        "print( alumno ['numeros'])"
      ],
      "execution_count": null,
      "outputs": []
    },
    {
      "cell_type": "code",
      "metadata": {
        "id": "Fqb_hFO3cacM"
      },
      "source": [
        "#Yael\r\n",
        "\r\n",
        "materia = [\"Algebra\", \"Computadoras y Programacion\", \"Calculo Diferencial e Integral\", \"Introduccion a la Ingenieria\", \"Geometria Analitica\"]\r\n",
        "alumno = {\"ID\" : (123456789), \"Nombre\" : \"Yael\", \"Apellido\" : \"Castillo\", \"Edad\" : 20, \"Escuela\" : \"FES Aragon\", \"Materia\" : materia}\r\n",
        "for i in alumno:\r\n",
        "    print(f\"Clave: {i} - Valor: {alumno[i]}\")"
      ],
      "execution_count": null,
      "outputs": []
    },
    {
      "cell_type": "code",
      "metadata": {
        "id": "B6L0dr5fceEu"
      },
      "source": [
        "cliente ={}"
      ],
      "execution_count": null,
      "outputs": []
    },
    {
      "cell_type": "code",
      "metadata": {
        "id": "Em4M0pVYcdUG"
      },
      "source": [
        "funciones = dir( dict )\r\n",
        "for funcion in funciones:\r\n",
        "  print (funciones)"
      ],
      "execution_count": null,
      "outputs": []
    },
    {
      "cell_type": "markdown",
      "metadata": {
        "id": "2ZSZYmtIciyt"
      },
      "source": [
        "# Manipulacion de los pares llave valor\r\n",
        "* key() te regresa una tupla con los strings llave del diccionario\r\n",
        "* values() te regresa solo valores\r\n",
        "* items() te regresa los pares"
      ]
    },
    {
      "cell_type": "code",
      "metadata": {
        "id": "JwKxRm8qcjvk",
        "outputId": "5f193925-35a8-44f3-b74a-b3626e7f1054",
        "colab": {
          "base_uri": "https://localhost:8080/"
        }
      },
      "source": [
        "print(alumno)\r\n",
        "llaves = alumno.keys()\r\n",
        "print(llaves)\r\n",
        "for elemento in llaves:\r\n",
        "  print(elemento)\r\n",
        "  print(alumno[elemento])\r\n",
        "#print(help(llaves))\r\n",
        "\r\n",
        "#manipular los valores\r\n",
        "valores=  alumno.values()\r\n",
        "print(valores)\r\n",
        "for val in valores:\r\n",
        "  print(val)\r\n",
        "\r\n",
        "#manipular pares\r\n",
        "pares= alumno.items()\r\n",
        "print(pares)\r\n",
        "for par in pares:\r\n",
        "  print(par)"
      ],
      "execution_count": 9,
      "outputs": [
        {
          "output_type": "stream",
          "text": [
            "{'nombre': 'Juan Pérez', 'edad': 18, 'Matricula': 312193, 'calificaciones': {'Mate': 8, 'ciencias': 9, 'ingles': 8}, 'aprovado': True, 'direccion': {'calle': 'Rancho seco', 'numero': 's/n', 'colonia': 'impulsora popular avicola', 'municipio': 'Mi-nezota', 'estado': {'clave': 15, 'nombre_clave': 'MEX', 'nombre': 'Estado de México'}}}\n",
            "dict_keys(['nombre', 'edad', 'Matricula', 'calificaciones', 'aprovado', 'direccion'])\n",
            "nombre\n",
            "Juan Pérez\n",
            "edad\n",
            "18\n",
            "Matricula\n",
            "312193\n",
            "calificaciones\n",
            "{'Mate': 8, 'ciencias': 9, 'ingles': 8}\n",
            "aprovado\n",
            "True\n",
            "direccion\n",
            "{'calle': 'Rancho seco', 'numero': 's/n', 'colonia': 'impulsora popular avicola', 'municipio': 'Mi-nezota', 'estado': {'clave': 15, 'nombre_clave': 'MEX', 'nombre': 'Estado de México'}}\n",
            "dict_values(['Juan Pérez', 18, 312193, {'Mate': 8, 'ciencias': 9, 'ingles': 8}, True, {'calle': 'Rancho seco', 'numero': 's/n', 'colonia': 'impulsora popular avicola', 'municipio': 'Mi-nezota', 'estado': {'clave': 15, 'nombre_clave': 'MEX', 'nombre': 'Estado de México'}}])\n",
            "Juan Pérez\n",
            "18\n",
            "312193\n",
            "{'Mate': 8, 'ciencias': 9, 'ingles': 8}\n",
            "True\n",
            "{'calle': 'Rancho seco', 'numero': 's/n', 'colonia': 'impulsora popular avicola', 'municipio': 'Mi-nezota', 'estado': {'clave': 15, 'nombre_clave': 'MEX', 'nombre': 'Estado de México'}}\n",
            "dict_items([('nombre', 'Juan Pérez'), ('edad', 18), ('Matricula', 312193), ('calificaciones', {'Mate': 8, 'ciencias': 9, 'ingles': 8}), ('aprovado', True), ('direccion', {'calle': 'Rancho seco', 'numero': 's/n', 'colonia': 'impulsora popular avicola', 'municipio': 'Mi-nezota', 'estado': {'clave': 15, 'nombre_clave': 'MEX', 'nombre': 'Estado de México'}})])\n",
            "('nombre', 'Juan Pérez')\n",
            "('edad', 18)\n",
            "('Matricula', 312193)\n",
            "('calificaciones', {'Mate': 8, 'ciencias': 9, 'ingles': 8})\n",
            "('aprovado', True)\n",
            "('direccion', {'calle': 'Rancho seco', 'numero': 's/n', 'colonia': 'impulsora popular avicola', 'municipio': 'Mi-nezota', 'estado': {'clave': 15, 'nombre_clave': 'MEX', 'nombre': 'Estado de México'}})\n"
          ],
          "name": "stdout"
        }
      ]
    },
    {
      "cell_type": "code",
      "metadata": {
        "id": "OZRq7u-wcoRU"
      },
      "source": [
        "print(help(dict.keys))"
      ],
      "execution_count": null,
      "outputs": []
    }
  ]
}