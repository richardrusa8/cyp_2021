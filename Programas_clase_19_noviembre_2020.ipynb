{
  "nbformat": 4,
  "nbformat_minor": 0,
  "metadata": {
    "colab": {
      "name": "Te damos la bienvenida a Colaboratory",
      "provenance": [],
      "collapsed_sections": [],
      "include_colab_link": true
    },
    "kernelspec": {
      "display_name": "Python 3",
      "name": "python3"
    }
  },
  "cells": [
    {
      "cell_type": "markdown",
      "metadata": {
        "id": "view-in-github",
        "colab_type": "text"
      },
      "source": [
        "<a href=\"https://colab.research.google.com/github/richardrusa8/cyp_2021/blob/main/Programas_clase_19_noviembre_2020.ipynb\" target=\"_parent\"><img src=\"https://colab.research.google.com/assets/colab-badge.svg\" alt=\"Open In Colab\"/></a>"
      ]
    },
    {
      "cell_type": "code",
      "metadata": {
        "id": "qW7ZV6Bp4emU"
      },
      "source": [
        "#Ejemplo 1.8\n",
        "MAT=0\n",
        "CAL1=0\n",
        "CAL2=0\n",
        "CAL3=0\n",
        "CAL4=0\n",
        "CAL5=0\n",
        "PRO=0.0\n",
        "MAT=int(input(\"Dame la matricula: \"))\n",
        "CAL1= float(input(\"Dame la calificación 1: \"))\n",
        "CAL2= float(input(\"dame la calificación 2: \"))\n",
        "CAL3= float(input(\"dame la calificación 3: \"))\n",
        "CAL4= float(input(\"dame la calificación 4: \"))\n",
        "CAL5= float(input(\"dame la calificación 5: \"))\n",
        "PRO=(CAL1+CAL2+CAL3+CAL4+CAL5)/5\n",
        "print(MAT,PRO)"
      ],
      "execution_count": null,
      "outputs": []
    },
    {
      "cell_type": "code",
      "metadata": {
        "id": "VOQHPInp4lC0"
      },
      "source": [
        "#Ejmeplo 1.9\n",
        "NUM=0\n",
        "CUA=0\n",
        "CUB=0\n",
        "NUM=int(input(\"Dame un número: \"))\n",
        "CUA= (NUM**2)\n",
        "CUB= (NUM**3)\n",
        "print(CUA,CUB)"
      ],
      "execution_count": null,
      "outputs": []
    },
    {
      "cell_type": "code",
      "metadata": {
        "id": "ynejWRJn4nc8"
      },
      "source": [
        "#Ejemplo 1.10\n",
        "BASE=0.00\n",
        "ALTU=0.00\n",
        "SUP=0.00\n",
        "PER=0.00\n",
        "BASE=float(input(\"Dame el valor de la base: \"))\n",
        "ALT=float(input(\"Dame el valor de la altura: \"))\n",
        "PER=2*(BASE+ALT)\n",
        "SUP=(BASE*ALT)\n",
        "print(\"la superficie es: \",SUP,\"y\",\"el perimetro es: \",PER)"
      ],
      "execution_count": null,
      "outputs": []
    },
    {
      "cell_type": "code",
      "metadata": {
        "id": "y-rQgQRdi7gM"
      },
      "source": [
        "#concepto de asignación\n",
        "I=0\n",
        "I=I+1\n",
        "I=I+1\n",
        "print(f\"I={I}\")\n",
        "J=5**2/3\n",
        "print(f\"J={J}\")"
      ],
      "execution_count": null,
      "outputs": []
    },
    {
      "cell_type": "code",
      "metadata": {
        "id": "M4JdNdMgmxJ4"
      },
      "source": [
        "#Declaración de variables (reservando memoria)\n",
        "A=0\n",
        "B=0\n",
        "C=0\n",
        "D=0\n",
        "\n",
        "A=int (input(\"Dame un valor entero \"))\n",
        "B=int (input(\"Dame un valor entero \"))\n",
        "C=int (input(\"Dame un valor entero \"))\n",
        "D=int (input(\"Dame un valor entero \"))\n",
        "\n",
        "print (A)\n",
        "print (B)\n",
        "print (C)\n",
        "print (D)"
      ],
      "execution_count": null,
      "outputs": []
    },
    {
      "cell_type": "code",
      "metadata": {
        "id": "FN-db-jRowsn"
      },
      "source": [
        "#Ejemplo 1.7\n",
        "A=0\n",
        "B=0\n",
        "RES=0\n",
        "A=int(input(\"Dame un entero \"))\n",
        "B=int(input(\"Dame otro entero \"))\n",
        "RES=(A+B)**2/3\n",
        "print(RES)"
      ],
      "execution_count": null,
      "outputs": []
    }
  ]
}