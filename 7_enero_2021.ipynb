{
  "nbformat": 4,
  "nbformat_minor": 0,
  "metadata": {
    "colab": {
      "name": "Te damos la bienvenida a Colaboratory",
      "provenance": [],
      "collapsed_sections": [],
      "toc_visible": true,
      "include_colab_link": true
    },
    "kernelspec": {
      "display_name": "Python 3",
      "name": "python3"
    }
  },
  "cells": [
    {
      "cell_type": "markdown",
      "metadata": {
        "id": "view-in-github",
        "colab_type": "text"
      },
      "source": [
        "<a href=\"https://colab.research.google.com/github/richardrusa8/cyp_2021/blob/main/7_enero_2021.ipynb\" target=\"_parent\"><img src=\"https://colab.research.google.com/assets/colab-badge.svg\" alt=\"Open In Colab\"/></a>"
      ]
    },
    {
      "cell_type": "code",
      "metadata": {
        "id": "TkutRoc5OGcj"
      },
      "source": [
        "ren=3\r\n",
        "col=5\r\n",
        "#vec=[[0 for x in range (col)]for x in range (ren)]\r\n",
        "vec=[[0 for x in range (5)]for x in range (3)]\r\n",
        "print(vec)\r\n",
        "vec[1][2]=15\r\n",
        "print(vec)\r\n",
        "\r\n",
        "print(\"Automatizar el recorrido del arreglo\")\r\n",
        "for i in range(ren):\r\n",
        "  for j in range (col):\r\n",
        "    print(f\"{i},{j} = {vec[i][j]}\")"
      ],
      "execution_count": null,
      "outputs": []
    },
    {
      "cell_type": "code",
      "metadata": {
        "id": "mSwXGzUDOHEW"
      },
      "source": [
        "#Tabla pagina 210\r\n",
        "\r\n",
        "estado=int (input(\"Indique la cantidad de estados\"))\r\n",
        "lluvias_men_est=[[0 for x in range(12)]for x in range(estado)]\r\n",
        "for i in range (estado):\r\n",
        "  for j in range (12):\r\n",
        "    mensaje=\"Dame el valor del estado : \"+ str(i+1) + \" Y del mes: \"+ str(j+1)+\"\\n\"\r\n",
        "    aux=int (input(mensaje))\r\n",
        "    lluvias_men_est[i][j]=aux\r\n",
        "\r\n",
        "print(lluvias_men_est)\r\n",
        "print(\"Promedio de lluvias en los estados:\")\r\n",
        "suma=0\r\n",
        "for i in range (estado):\r\n",
        "  suma=0\r\n",
        "  for j in range (12):\r\n",
        "    suma=suma+lluvias_men_est[i][j]\r\n",
        "  \r\n",
        "print(f\"El promedio de lluvias en el estado {i+1} es {suma/12} \")\r\n"
      ],
      "execution_count": null,
      "outputs": []
    }
  ]
}