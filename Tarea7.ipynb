{
  "nbformat": 4,
  "nbformat_minor": 0,
  "metadata": {
    "colab": {
      "name": "Te damos la bienvenida a Colaboratory",
      "provenance": [],
      "collapsed_sections": [],
      "toc_visible": true,
      "include_colab_link": true
    },
    "kernelspec": {
      "display_name": "Python 3",
      "name": "python3"
    }
  },
  "cells": [
    {
      "cell_type": "markdown",
      "metadata": {
        "id": "view-in-github",
        "colab_type": "text"
      },
      "source": [
        "<a href=\"https://colab.research.google.com/github/richardrusa8/cyp_2021/blob/main/Tarea7.ipynb\" target=\"_parent\"><img src=\"https://colab.research.google.com/assets/colab-badge.svg\" alt=\"Open In Colab\"/></a>"
      ]
    },
    {
      "cell_type": "code",
      "metadata": {
        "id": "kF5T_jJkwJI3"
      },
      "source": [
        "#Problema 4.11\r\n",
        "total = int(input(\"¿Cuántos países en total serán?: \"))\r\n",
        "\r\n",
        "qnorte, qcentro, qsur, aux, aux2 = 0, 0, 0, 0, 0\r\n",
        "while True:\r\n",
        "  qnorte = int(input(\"¿Cuántos países serán para el Norte de América?: \"))\r\n",
        "  qcentro = int(input(\"¿Cuántos países serán para el Centro de América?: \"))\r\n",
        "  qsur = int(input(\"¿Cuántos países serán para el Sur de América?: \"))\r\n",
        "  aux = qnorte + qcentro + qsur\r\n",
        "\r\n",
        "  if aux == total:\r\n",
        "    break;\r\n",
        "  elif aux < total:\r\n",
        "    print(\"La cantidad de países ingresada por regiones es menor a la total.\")\r\n",
        "  elif aux > total:\r\n",
        "    print(\"La cantidad de países ingresada por regiones es mayor a la total.\")\r\n",
        "\r\n",
        "lpaises = [\"Norte\", \"Centro\", \"Sur\"]\r\n",
        "aux = 0\r\n",
        "pnorte = [str(0) for x in range(qnorte)]\r\n",
        "pcentro = [str(0) for x in range(qcentro)]\r\n",
        "psur = [str(0) for x in range(qsur)]\r\n",
        "ptotal = [str(0) for x in range(total)]\r\n",
        "\r\n",
        "for i in range(total):\r\n",
        "  ptotal[i] = str(input(f\"Ingresa el nombre del país n°{aux+1} para la región del {lpaises[aux2]} de América: \"))\r\n",
        "  aux += 1\r\n",
        "  if aux2 == 0:\r\n",
        "    if aux >= qnorte:\r\n",
        "      aux = 0\r\n",
        "      aux2 = 1\r\n",
        "    pnorte[aux] = ptotal[i]\r\n",
        "  elif aux2 == 1:\r\n",
        "    if aux >= qcentro:\r\n",
        "      aux = 0\r\n",
        "      aux2 = 2\r\n",
        "    pcentro[aux] = ptotal[i]\r\n",
        "  elif aux2 == 2:\r\n",
        "    if aux >= qsur:\r\n",
        "      aux = 0\r\n",
        "    psur[aux] = ptotal[i]\r\n",
        "\r\n",
        "print(f\"Norte: {sorted(pnorte)}\")\r\n",
        "print(f\"Centro: {sorted(pcentro)}\")\r\n",
        "print(f\"Sur: {sorted(psur)}\")\r\n",
        "print(f\"Todos: {sorted(ptotal)}\")"
      ],
      "execution_count": null,
      "outputs": []
    }
  ]
}