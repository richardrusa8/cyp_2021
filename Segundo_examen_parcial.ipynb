{
  "nbformat": 4,
  "nbformat_minor": 0,
  "metadata": {
    "colab": {
      "name": "Te damos la bienvenida a Colaboratory",
      "provenance": [],
      "collapsed_sections": [],
      "include_colab_link": true
    },
    "kernelspec": {
      "display_name": "Python 3",
      "name": "python3"
    }
  },
  "cells": [
    {
      "cell_type": "markdown",
      "metadata": {
        "id": "view-in-github",
        "colab_type": "text"
      },
      "source": [
        "<a href=\"https://colab.research.google.com/github/richardrusa8/cyp_2021/blob/main/Segundo_examen_parcial.ipynb\" target=\"_parent\"><img src=\"https://colab.research.google.com/assets/colab-badge.svg\" alt=\"Open In Colab\"/></a>"
      ]
    },
    {
      "cell_type": "code",
      "metadata": {
        "id": "j5DkhqRSDdAZ"
      },
      "source": [
        "cal = 0\r\n",
        "cal = float(input(\"ingrese la calificación: \"))\r\n",
        "\r\n",
        "if (cal >= 8 ):\r\n",
        "  print(\" aprobado \")\r\n",
        "else:\r\n",
        " print(\" reprobado \")"
      ],
      "execution_count": null,
      "outputs": []
    },
    {
      "cell_type": "code",
      "metadata": {
        "id": "FpU1IkxvGb6u"
      },
      "source": [
        "frutas=[\"melon\", \"sandia\", \"kiwi\", \"aguacate\", \"mango\",\"platano\"]\r\n",
        "print(frutas)\r\n",
        "frutas[0]=\"Melón\"\r\n",
        "print(frutas)\r\n",
        "frutas[1]=frutas[1].capitalize()\r\n",
        "print(frutas)"
      ],
      "execution_count": null,
      "outputs": []
    },
    {
      "cell_type": "code",
      "metadata": {
        "id": "G-zezAlsI0ly"
      },
      "source": [
        "multi= 0\r\n",
        "x= 10\r\n",
        "for i in range (x):\r\n",
        "  multi= 5*(i+1)\r\n",
        "  print(f\"5x {i+1}={multi}\")"
      ],
      "execution_count": null,
      "outputs": []
    },
    {
      "cell_type": "code",
      "metadata": {
        "id": "njJkviC1UQYC"
      },
      "source": [
        "name1 = input(\"Proporciona el primer nombre: \")\r\n",
        "name2 = input(\"Proporciona el segundo nombre: \")\r\n",
        "finalname1 = len(name1)\r\n",
        "finalname2 = len(name2)\r\n",
        "if (name1[0] == name2[0] or name1[finalname1-1] == name2[finalname2-1]):\r\n",
        "    print(\"Coincidencia\")\r\n",
        "else:\r\n",
        "    print(\"No hay coincidencia\")"
      ],
      "execution_count": null,
      "outputs": []
    },
    {
      "cell_type": "code",
      "metadata": {
        "id": "iCX3ttCVKIko"
      },
      "source": [
        "for i in range(100):\r\n",
        "  resta=(100-i)\r\n",
        "  print(resta)"
      ],
      "execution_count": null,
      "outputs": []
    },
    {
      "cell_type": "code",
      "metadata": {
        "id": "p8fvygw_QsW8"
      },
      "source": [
        "numero1 = int(input(\"Introduce el primer número: \"))\r\n",
        "numero2 = int(input(\"Introduce el segundo número: \"))\r\n",
        "\r\n",
        "if numero1 >= numero2:\r\n",
        "  print(numero1,\"es el mayor\")\r\n",
        "\r\n",
        "elif numero2 >= numero1:\r\n",
        "  print(numero2, \"es el mayor\") \r\n"
      ],
      "execution_count": null,
      "outputs": []
    },
    {
      "cell_type": "code",
      "metadata": {
        "id": "sPBJR0lkTcR1",
        "outputId": "cf2f26cc-1758-48f6-8400-03d2ef7bd100",
        "colab": {
          "base_uri": "https://localhost:8080/"
        }
      },
      "source": [
        "print(\"Candidtato A\\nCandidato B\\nCandidato C\")\r\n",
        "voto= input(\"Usted ha votado por el candidato: \")\r\n",
        "voto= voto.upper()\r\n",
        "if voto==\"A\":\r\n",
        "  print(\"Usted ha votado por el partido rojo\")\r\n",
        "elif voto ==\"B\":\r\n",
        "  print(\"Usted ha votado por el partido verde\")\r\n",
        "elif voto==\"C\":\r\n",
        "  print(\"Usted ha votado por el partido azul\")\r\n",
        "else:\r\n",
        "  print(\"Opción no valida\")"
      ],
      "execution_count": 76,
      "outputs": [
        {
          "output_type": "stream",
          "text": [
            "Candidtato A\n",
            "Candidato B\n",
            "Candidato C\n",
            "Usted ha votado por el candidato: C\n",
            "Usted ha votado por el partido azul\n"
          ],
          "name": "stdout"
        }
      ]
    },
    {
      "cell_type": "code",
      "metadata": {
        "id": "fdtFX-LvWrvt"
      },
      "source": [
        "monto= float(input(\"monto total: \"))\r\n",
        "print(f\"El monto a final de mes será {(monto+(monto*0.03)):.2f}\")"
      ],
      "execution_count": null,
      "outputs": []
    },
    {
      "cell_type": "code",
      "metadata": {
        "id": "kIyc_OYxWsQL"
      },
      "source": [
        "carro1= {'marca':'Volkwagen', \r\n",
        "         'modelo':'vochito', \r\n",
        "         'color': 'azul', \r\n",
        "         'numero de matricula ': 115745, \r\n",
        "         'precio':56000,}\r\n",
        "print(f\"el primer carro es {carro1}\")\r\n",
        "carro2= {'marca':'nissan', \r\n",
        "         'modelo':'tsuru', \r\n",
        "         'color': 'blanco', \r\n",
        "         'numero de matricula ': 178575, \r\n",
        "         'precio':65000,}\r\n",
        "print(f\"el segundo carro es {carro2}\")\r\n",
        "carro3= {'marca':'Toyota', \r\n",
        "         'modelo':'tacoma', \r\n",
        "         'color': 'rojo', \r\n",
        "         'numero de matricula ': 546997, \r\n",
        "         'precio':102000,}\r\n",
        "print(f\"el tercer carro es {carro3}\")\r\n",
        "carro4= {'marca':'tesla', \r\n",
        "         'modelo':'model s', \r\n",
        "         'color': 'negro', \r\n",
        "         'numero de matricula ': 332487, \r\n",
        "         'precio':1200000,}\r\n",
        "print(f\"el cuarto carro es {carro4}\")\r\n",
        "carro5= {'marca':'mazda', \r\n",
        "         'modelo':'mazda 3', \r\n",
        "         'color': 'gris', \r\n",
        "         'numero de matricula ': 318648, \r\n",
        "         'precio':232000,}\r\n",
        "print(f\"el quinto carro es {carro5}\")"
      ],
      "execution_count": null,
      "outputs": []
    },
    {
      "cell_type": "code",
      "metadata": {
        "id": "uIs1_gfifE5H"
      },
      "source": [
        "letra= input(\"ingresa una letra: \")\r\n",
        "if len(letra) >1:\r\n",
        "  print(\"sólo ingresa una letra\")\r\n",
        "else:\r\n",
        "  letra= letra.upper()\r\n",
        "  if letra =='A' or letra =='E' or letra =='I' or letra =='O' or letra =='U':\r\n",
        "    print(\"Es una vocal\")\r\n",
        "  else:\r\n",
        "    print(\"No es una vocal\")"
      ],
      "execution_count": null,
      "outputs": []
    }
  ]
}