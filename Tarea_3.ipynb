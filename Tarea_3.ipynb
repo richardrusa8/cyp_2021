{
  "nbformat": 4,
  "nbformat_minor": 0,
  "metadata": {
    "colab": {
      "name": "Copia de Tarea 3",
      "provenance": [],
      "collapsed_sections": [],
      "include_colab_link": true
    },
    "kernelspec": {
      "display_name": "Python 3",
      "name": "python3"
    }
  },
  "cells": [
    {
      "cell_type": "markdown",
      "metadata": {
        "id": "view-in-github",
        "colab_type": "text"
      },
      "source": [
        "<a href=\"https://colab.research.google.com/github/richardrusa8/cyp_2021/blob/main/Tarea_3.ipynb\" target=\"_parent\"><img src=\"https://colab.research.google.com/assets/colab-badge.svg\" alt=\"Open In Colab\"/></a>"
      ]
    },
    {
      "cell_type": "code",
      "metadata": {
        "id": "XFOOD8XYb6L4"
      },
      "source": [
        "#Problema 1.1\n",
        "PREPRO=0\n",
        "PAGO=0\n",
        "CAMBIO=0\n",
        "\n",
        "PREPRO=float(input(\"Dame el precio del producto: \"))\n",
        "PAGO= float(input(\"Cantidad recibida por el producto: \"))\n",
        "CAMBIO= (PAGO-PREPRO)\n",
        "print(f\"El cambio es de: {CAMBIO:.2f}\")"
      ],
      "execution_count": null,
      "outputs": []
    },
    {
      "cell_type": "code",
      "metadata": {
        "id": "ZsVSF4iViAjG"
      },
      "source": [
        "#Problema 1.2\n",
        "BASE=0\n",
        "ALTU=0\n",
        "SUP=0\n",
        "\n",
        "BASE=float(input(\"Dame el valor de la base: \"))\n",
        "ALTU=float(input(\"Dame el valor de la altura: \"))\n",
        "SUP= (BASE*ALTU)/2\n",
        "print(f\"La superficie del triángulo es de : {SUP:.2f}\")"
      ],
      "execution_count": null,
      "outputs": []
    },
    {
      "cell_type": "code",
      "metadata": {
        "id": "7_5Mxsumjcem"
      },
      "source": [
        "#Problema 1.3\n",
        "PESO=0\n",
        "LONG=0\n",
        "PESKIL=0\n",
        "LONGMET=0\n",
        "\n",
        "NOM=input(\"Dame el nombre del dinosaurio: \")\n",
        "PESO=float(input(\"Dame el peso del dinosaurio en tonleadas: \"))\n",
        "LONG=float(input(\"Dame la altura del dinosaurio en pies: \"))\n",
        "PESKIL=(PESO*1000)\n",
        "LONGMET=(LONG*0.3047)\n",
        "print(f\"Su nombre es {NOM}, su peso en kilogramos es: {PESKIL:.2f} y su altura en metros es: {LONGMET:.2f}\")"
      ],
      "execution_count": null,
      "outputs": []
    },
    {
      "cell_type": "code",
      "metadata": {
        "id": "7oqPEUl4bRB0"
      },
      "source": [
        "#Problema 1.4\n",
        "GAL=0\n",
        "LITRO=8.20\n",
        "TOTAL=0\n",
        "\n",
        "GAL= float(input(\"Dame el total de galones: \"))\n",
        "TOTAL= (GAL*3.785)*8.2\n",
        "print(f\"El precio totoal es de: ${TOTAL:.2f}\")"
      ],
      "execution_count": null,
      "outputs": []
    },
    {
      "cell_type": "code",
      "metadata": {
        "id": "tyUt39_ReJ90"
      },
      "source": [
        "#Problema 1.5\n",
        "RADIO=0\n",
        "ALTU=0\n",
        "VOL=0\n",
        "AREA=0\n",
        "π=3.141592\n",
        "\n",
        "RADIO= float(input(\"Dame el valor del radio: \"))\n",
        "ALTU= float(input(\"Dame el valor de la altura: \"))\n",
        "VOL= (RADIO**2*ALTU*π)\n",
        "AREA= (2*π*RADIO*ALTU)\n",
        "print(f\"El volumen del cilindro es: {VOL:.2f} y su area es: {AREA:.2f}\")"
      ],
      "execution_count": null,
      "outputs": []
    },
    {
      "cell_type": "code",
      "metadata": {
        "id": "M9px6p1elLDa"
      },
      "source": [
        "#Problema 1.6\n",
        "DIAS=0\n",
        "SEG=0\n",
        "\n",
        "DIAS=int(input(\"Dame el número de días: \"))\n",
        "SEG= (DIAS*24*60*60)\n",
        "print(f\"{DIAS} días equivalen a {SEG} segundos\")"
      ],
      "execution_count": null,
      "outputs": []
    }
  ]
}