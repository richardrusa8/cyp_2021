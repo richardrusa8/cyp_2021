{
  "nbformat": 4,
  "nbformat_minor": 0,
  "metadata": {
    "colab": {
      "name": "Te damos la bienvenida a Colaboratory",
      "provenance": [],
      "collapsed_sections": [],
      "toc_visible": true,
      "include_colab_link": true
    },
    "kernelspec": {
      "display_name": "Python 3",
      "name": "python3"
    }
  },
  "cells": [
    {
      "cell_type": "markdown",
      "metadata": {
        "id": "view-in-github",
        "colab_type": "text"
      },
      "source": [
        "<a href=\"https://colab.research.google.com/github/richardrusa8/cyp_2021/blob/main/Te_damos_la_bienvenida_a_Colaboratory.ipynb\" target=\"_parent\"><img src=\"https://colab.research.google.com/assets/colab-badge.svg\" alt=\"Open In Colab\"/></a>"
      ]
    },
    {
      "cell_type": "code",
      "metadata": {
        "id": "oMdz2RODcAtr"
      },
      "source": [
        "numero=int (input(\"Dame un numero \"))\n",
        "if numero >0:\n",
        "   print(\"El número es positivo\")\n",
        "print (\"Fin del programa\")"
      ],
      "execution_count": null,
      "outputs": []
    },
    {
      "cell_type": "code",
      "metadata": {
        "id": "yA96w39YcU0a"
      },
      "source": [
        "numero= int(input (\"Ingresa un numero \"))\n",
        "if numero >0:\n",
        "  print (\"El numero es positivo\")\n",
        "elif numero==0:\n",
        "  print (\"El numero es cero\")\n",
        "else:\n",
        "  print(\"El numero es negativo\")\n",
        "print (\"Fin del programa\")"
      ],
      "execution_count": null,
      "outputs": []
    },
    {
      "cell_type": "code",
      "metadata": {
        "id": "oTF_e0r8cnr5"
      },
      "source": [
        "numero= int(input (\"Ingresa un numero \"))\n",
        "if numero >0:\n",
        "  print (\"El numero es positivo\")\n",
        "else:\n",
        "  print(\"El numero es negativo\")\n",
        "print (\"Fin del programa\")"
      ],
      "execution_count": null,
      "outputs": []
    }
  ]
}