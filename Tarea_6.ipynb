{
  "nbformat": 4,
  "nbformat_minor": 0,
  "metadata": {
    "colab": {
      "name": "Tarea 6",
      "provenance": [],
      "collapsed_sections": [],
      "include_colab_link": true
    },
    "kernelspec": {
      "display_name": "Python 3",
      "name": "python3"
    }
  },
  "cells": [
    {
      "cell_type": "markdown",
      "metadata": {
        "id": "view-in-github",
        "colab_type": "text"
      },
      "source": [
        "<a href=\"https://colab.research.google.com/github/richardrusa8/cyp_2021/blob/main/Tarea_6.ipynb\" target=\"_parent\"><img src=\"https://colab.research.google.com/assets/colab-badge.svg\" alt=\"Open In Colab\"/></a>"
      ]
    },
    {
      "cell_type": "code",
      "metadata": {
        "id": "NWXpfXiCsgYj"
      },
      "source": [
        "#Problema 3.3\r\n",
        "serie=0\r\n",
        "N=int(input(\"Introduce un numero entero:\"))\r\n",
        "band=True\r\n",
        "I=1\r\n",
        "\r\n",
        "while I<=N:\r\n",
        "  if band==True:\r\n",
        "     serie=serie+1/I\r\n",
        "     band=False\r\n",
        "     I=I+1\r\n",
        "  else:\r\n",
        "    serie-=(1/I)\r\n",
        "    band=True\r\n",
        "    I=I+1\r\n",
        "print(\"El resultado de la serie es:\",serie)"
      ],
      "execution_count": null,
      "outputs": []
    },
    {
      "cell_type": "code",
      "metadata": {
        "id": "4vaqXmWmsoYq"
      },
      "source": [
        "#Problema 3.4\r\n",
        "NOM=0\r\n",
        "sueldo=0\r\n",
        "while sueldo !=-1:\r\n",
        "  sueldo=int(input(\"Introduce sueldo del trabajador:\"))\r\n",
        "  if sueldo<1000:\r\n",
        "    NSUE=sueldo*1.15\r\n",
        "  else:\r\n",
        "    NSUE=sueldo*1.12\r\n",
        "  NOM=NOM+NSUE\r\n",
        "  print(f\"Nuevo sueldo:\",NSUE )\r\n",
        "  print(f\"Nomina:\",NOM)"
      ],
      "execution_count": null,
      "outputs": []
    },
    {
      "cell_type": "code",
      "metadata": {
        "id": "qnusYndIsvP5"
      },
      "source": [
        "#Problema 3.5\r\n",
        "\r\n",
        "SUMPOS=0\r\n",
        "CUEPOS=0\r\n",
        "SUMOTR=0\r\n",
        "\r\n",
        "N=int(input(\"Ingrese un numero de datos que va a ingresar:\"))\r\n",
        "I=1\r\n",
        "while I<=N:\r\n",
        "  NUM=int(input(\"Ingrese un numero:\"))\r\n",
        "  if NUM>0:\r\n",
        "    SUMPOS=SUMPOS+NUM\r\n",
        "    CUEPOS=CUEPOS+1\r\n",
        "  else:\r\n",
        "    SUMOTR=SUMOTR+NUM\r\n",
        "  I=I+1\r\n",
        "PROGEN=(SUMPOS+SUMOTR)/N\r\n",
        "PROPOS=SUMPOS/CUEPOS\r\n",
        "print(f\"CUEPOS\",CUEPOS)\r\n",
        "print(f\"PROPOS\",PROPOS)\r\n",
        "print(f\"PROGEN\",PROGEN)"
      ],
      "execution_count": null,
      "outputs": []
    },
    {
      "cell_type": "code",
      "metadata": {
        "id": "561GMVpdswxR"
      },
      "source": [
        "#Problema 3.6\r\n",
        "may=-100000\r\n",
        "men=100000\r\n",
        "N=int(input(\"Ingrese el numero de valores:\"))\r\n",
        "I=1\r\n",
        "while I<=N:\r\n",
        "  NUM=int(input(\"Ingrese un numero:\"))\r\n",
        "  if NUM > may:\r\n",
        "    may=NUM\r\n",
        "  else:\r\n",
        "    NUM < men\r\n",
        "    men=NUM\r\n",
        "  I=I+1\r\n",
        "print(f\"\",may)\r\n",
        "print(f\"\",men)"
      ],
      "execution_count": null,
      "outputs": []
    },
    {
      "cell_type": "code",
      "metadata": {
        "id": "bP2c7Esgs376"
      },
      "source": [
        "#Problema 3.7\r\n",
        "CHI=0\r\n",
        "MED=0\r\n",
        "GRA=0\r\n",
        "\r\n",
        "N=int(input(\"Ingrese N:\"))\r\n",
        "\r\n",
        "I=1\r\n",
        "while I<=N:\r\n",
        "  V=int(input(\"Ingrese V:\"))\r\n",
        "  if V<200:\r\n",
        "    CHI=CHI+1\r\n",
        "  elif V<400:\r\n",
        "    MED=MED+1\r\n",
        "    GRA=GRA+1\r\n",
        "  I=I+1\r\n",
        "print(f\"\",CHI)\r\n",
        "print(f\"\",MED)\r\n",
        "print(f\"\",GRA)"
      ],
      "execution_count": null,
      "outputs": []
    },
    {
      "cell_type": "code",
      "metadata": {
        "id": "JYPlIfqBs5oZ"
      },
      "source": [
        "#Problema 3.8\r\n",
        "\r\n",
        "NUM=int(input(\"Introduce un numero:\"))\r\n",
        "while NUM>0:\r\n",
        "  while NUM >=1:\r\n",
        "    NUM=int(input(\"Ingrese un numero:\"))\r\n",
        "    if (-1**NUM)>0:\r\n",
        "      NUM=NUM/2\r\n",
        "    else:\r\n",
        "      NUM=NUM*3+1\r\n",
        "    print(f\"Num\",NUM)\r\n",
        "print(f\"Introduce un numero entero positivo:\")"
      ],
      "execution_count": null,
      "outputs": []
    },
    {
      "cell_type": "code",
      "metadata": {
        "id": "u5vbY9sZs9Yx"
      },
      "source": [
        "#Problema 3.9\r\n",
        "\r\n",
        "band=True\r\n",
        "serie=0\r\n",
        "N=int(input(\"Ingrese N:\"))\r\n",
        "I=1\r\n",
        "while I<=N:\r\n",
        "  serie=serie+I**I\r\n",
        "  print(f\"{I},\", end=\"\")\r\n",
        "  I=I+1\r\n",
        "print(\"\\nLa suma de la serie es:\", serie)"
      ],
      "execution_count": null,
      "outputs": []
    },
    {
      "cell_type": "code",
      "metadata": {
        "id": "6amcbVVbtBUm"
      },
      "source": [
        "#Problema 3.10\r\n",
        "\r\n",
        "PRI=0\r\n",
        "SEG=1\r\n",
        "I=3\r\n",
        "while I<=7:\r\n",
        "  SIG=PRI+SEG\r\n",
        "  PRI=SEG\r\n",
        "  SEG=SIG\r\n",
        "  I=I+1\r\n",
        "print(f\"\",SIG)"
      ],
      "execution_count": null,
      "outputs": []
    },
    {
      "cell_type": "code",
      "metadata": {
        "id": "n2Vxf53XtN9h"
      },
      "source": [
        "#Problema 3.11 \r\n",
        "CAN1=0\r\n",
        "CAN2=0\r\n",
        "CAN3=0\r\n",
        "CAN4=0\r\n",
        "VOTO=int(input(\"Ingresa voto:\"))\r\n",
        "while VOTO>=0:\r\n",
        "  CAN1=CAN1+1\r\n",
        "  CAN2=CAN2+1\r\n",
        "  CAN3=CAN3+1\r\n",
        "  CAN4=CAN4+1\r\n",
        "  I=I+1"
      ],
      "execution_count": null,
      "outputs": []
    },
    {
      "cell_type": "code",
      "metadata": {
        "id": "fvlxzirgtRcU"
      },
      "source": [
        "#Problema 3.12\r\n",
        "MASUE=0\r\n",
        "N=int(input(\"Ingresa N:\"))\r\n",
        "I=1\r\n",
        "while I<=N:\r\n",
        "  NUMEMP=int(input(\"Ingresa NUMEMP:\"))\r\n",
        "  SUE=int(input(\"Ingresa SUE:\"))\r\n",
        "  if SUE>MASUE:\r\n",
        "    MASUE=SUE\r\n",
        "    MANUM=NUMEMP\r\n",
        "  else:\r\n",
        "    I=I+1\r\n",
        "    print(\"\",MANUM)\r\n",
        "    print(\"\",MASUE)"
      ],
      "execution_count": null,
      "outputs": []
    },
    {
      "cell_type": "code",
      "metadata": {
        "id": "qTSYaaA8tUTa"
      },
      "source": [
        "#Problema 3.13\r\n",
        "ARNO=0\r\n",
        "ARCE=0\r\n",
        "ARSU=0\r\n",
        "MERSU=500000\r\n",
        "I=1\r\n",
        "while I<12:\r\n",
        "  RNO=int(input(\"Ingrese RNO:\"))\r\n",
        "  RCE=int(input(\"Ingrese RCE:\"))\r\n",
        "  RSU=int(input(\"Ingrese RSU:\"))\r\n",
        "\r\n",
        "  ARNO=ARNO+RNO\r\n",
        "  ARCE=ARCE+RCE\r\n",
        "  ARSU=ARSU+RSU\r\n",
        "\r\n",
        "  if RSU<MERSU:\r\n",
        "    MERSU=RSU\r\n",
        "    MES=1\r\n",
        "  else:\r\n",
        "    I=i+1\r\n",
        "\r\n",
        "  PRORCE=ARCE/12\r\n",
        "  print(\"promedio region:\",PRORCE, \"Mes con menor lluvia region sur:\", MES, \"Registro del mes:\", MERSU,)\r\n",
        "\r\n",
        "  while ARNO>ARCE:\r\n",
        "    if ARNO>ARSU:\r\n",
        "      print(\"La region con mayor lluvia es la norte\")\r\n",
        "    else:\r\n",
        "      print(\"La region con mayor lluvia es ña sur\")\r\n",
        "    I=i+1\r\n",
        "    while ARCE>ARSU:\r\n",
        "        if:\r\n",
        "        print(\"La region con mayor lluvia es el centro\")\r\n",
        "        else:\r\n",
        "        print(\"La region con mayor lluvia  es la sur\")\r\n",
        "        I=i+1"
      ],
      "execution_count": null,
      "outputs": []
    },
    {
      "cell_type": "code",
      "metadata": {
        "id": "JoqAEtwltb7Y"
      },
      "source": [
        "#Problema 3.14\r\n",
        "AP1=0\r\n",
        "AP2=0\r\n",
        "AP3=0\r\n",
        "AP4=0\r\n",
        "AP5=0\r\n",
        "RECAU=0\r\n",
        "P1=float(input(\"Ingrese P1\"))\r\n",
        "P2=float(input(\"Ingrese P2\"))\r\n",
        "P3=float(input(\"Ingrese P3\"))\r\n",
        "P5=float(input(\"Ingrese P5\"))\r\n",
        "P5=float(input(\"Ingrese P5\"))\r\n",
        "\r\n",
        "CLAVE=int(input(\"Ingrese CLAVE\"))\r\n",
        "CANT=int(input(\"Ingrese CANT\"))\r\n",
        "\r\n",
        "while CLAVE>=-1 or CANT>=-1:\r\n",
        "\r\n",
        "   Pl*CANT\r\n",
        "   AP1=AP1 + CANT\r\n",
        "   P2*CANT\r\n",
        "   AP2=AP2 + CANT\r\n",
        "   P3*CANT\r\n",
        "   AP3=AP3 + CANT\r\n",
        "   P4*CANT\r\n",
        "   AP4=AP4 + CANT\r\n",
        "   P5*CANT\r\n",
        "   AP5=AP5 + CANT\r\n",
        "   I=I+1\r\n",
        "   CLAVE=int(input(\"Ingrese CLAVE\"))\r\n",
        "   CANT=int(input(\"Ingrese CANT\"))"
      ],
      "execution_count": null,
      "outputs": []
    },
    {
      "cell_type": "code",
      "metadata": {
        "id": "Yd8BHZKutiuR"
      },
      "source": [
        "#problema 3.15\r\n",
        "\r\n",
        "CL=0\r\n",
        "CUENTA=0\r\n",
        "\r\n",
        "TIPO=int(input(\"Ingrese TIPO\"))\r\n",
        "CUENTA=int(input(\"Ingrese CUENTA\"))\r\n",
        "while TIPO>=x or DUR>=-1:\r\n",
        "  if DUR>3:\r\n",
        "    COSTO=7.59+((DUR-3)*3.03)\r\n",
        "  else CORTO=7.59"
      ],
      "execution_count": null,
      "outputs": []
    },
    {
      "cell_type": "code",
      "metadata": {
        "id": "VvT-xPJOZm1M"
      },
      "source": [
        "#problema 3.16\r\n",
        "tipo1=0\r\n",
        "tipo2=0\r\n",
        "tipo3=0\r\n",
        "tipo4=0\r\n",
        "tipo5=0\r\n",
        "mctipo2=0\r\n",
        "\r\n",
        "n= int (input(\"Ingrese el numero de años ha calcular\"))\r\n",
        "i=1\r\n",
        "for i in range (n):\r\n",
        "  j=1\r\n",
        "  totvin=0\r\n",
        "  for j in range (5):\r\n",
        "    v= float (input(f\"Cantidad de litros del vino {j+11} \"))\r\n",
        "    totvin=totvin+v\r\n",
        "    if (j==1):\r\n",
        "      tipo1=tipo1+v\r\n",
        "\r\n",
        "    elif (j==2):\r\n",
        "      tipo2=tipo2+v\r\n",
        "      if (v >mctipo2):\r\n",
        "        mctipo2=v\r\n",
        "        año=i\r\n",
        "        \r\n",
        "    elif (j==3):\r\n",
        "      tipo3=tipo3+v\r\n",
        "      if (v==0):\r\n",
        "        print(f\"En el año {i+1} no se produjo vino tipo 3 \")\r\n",
        "    \r\n",
        "    elif (j==4):\r\n",
        "      tipo4=tipo4+v\r\n",
        "    \r\n",
        "    elif (j==5):\r\n",
        "      tipo5=tipo5+v\r\n",
        "\r\n",
        "  j=j+1\r\n",
        "\r\n",
        "print(f\"Total tipo 1:{tipo1} \")\r\n",
        "print(f\"Total tipo 2:{tipo2} \")\r\n",
        "print(f\"Total tipo 3:{tipo3} \")\r\n",
        "print(f\"Total tipo 4:{tipo4} \")\r\n",
        "print(f\"Total tipo 5:{tipo5} \")\r\n",
        "print(f\"Año en que se produjo mayor cantidad de vino tipo 2: {año}\\n Litros: {mctipo2} L.\")"
      ],
      "execution_count": null,
      "outputs": []
    },
    {
      "cell_type": "code",
      "metadata": {
        "id": "zDV5q773ZvvL"
      },
      "source": [
        "#problema 3.17\r\n",
        "i=3\r\n",
        "sp=0\r\n",
        "m= int (input(\"Número limite a ingresar \"))\r\n",
        "\r\n",
        "if (m>=i):\r\n",
        "  sp=sp+1\r\n",
        "  print(\"NUMERO PRIMO\",1)\r\n",
        "  if (m>=2):\r\n",
        "    sp=sp+1\r\n",
        "    print(\"NUMERO PRIMO\",2)\r\n",
        "\r\n",
        "while (i<=m):\r\n",
        "  band= True\r\n",
        "  j=3\r\n",
        "  while (j<(i//2) and (band == True)):\r\n",
        "    if (i % j==0 ):\r\n",
        "      band= False \r\n",
        "      j=j+2\r\n",
        "      if(band== True):\r\n",
        "    print(\"NUMERO PRIMO\", i)\r\n",
        "    sp=sp+1\r\n",
        "  \r\n",
        "  i+2\r\n",
        "\r\n",
        "print(f\"Entre 1 y M hay {sp} numeros primos\")"
      ],
      "execution_count": null,
      "outputs": []
    },
    {
      "cell_type": "code",
      "metadata": {
        "id": "FEFerNT5tlv6"
      },
      "source": [
        "#problema 3.18\r\n",
        "\r\n",
        "MAYPRO=0\r\n",
        "N=int(input(\"Ingrese N\"))\r\n",
        "while N<=1000:\r\n",
        "  I=1:\r\n",
        "  while I<=N:\r\n",
        "    FABRICA=int(input(\"Ingrese FABRICA\"))\r\n",
        "    TOTANU=0\r\n",
        "    J=1"
      ],
      "execution_count": null,
      "outputs": []
    },
    {
      "cell_type": "code",
      "metadata": {
        "id": "Stcws5zstn4y"
      },
      "source": [
        "#problema 3.19\r\n",
        "\r\n",
        "N=int(input(\"Ingrese N\"))\r\n",
        "I=1\r\n",
        "while I>=1:\r\n",
        "  SUM=0\r\n",
        "  J=1"
      ],
      "execution_count": null,
      "outputs": []
    }
  ]
}