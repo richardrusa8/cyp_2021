{
  "nbformat": 4,
  "nbformat_minor": 0,
  "metadata": {
    "colab": {
      "name": "Te damos la bienvenida a Colaboratory",
      "provenance": [],
      "collapsed_sections": [],
      "toc_visible": true,
      "include_colab_link": true
    },
    "kernelspec": {
      "display_name": "Python 3",
      "name": "python3"
    }
  },
  "cells": [
    {
      "cell_type": "markdown",
      "metadata": {
        "id": "view-in-github",
        "colab_type": "text"
      },
      "source": [
        "<a href=\"https://colab.research.google.com/github/richardrusa8/cyp_2021/blob/main/3_dic_2020.ipynb\" target=\"_parent\"><img src=\"https://colab.research.google.com/assets/colab-badge.svg\" alt=\"Open In Colab\"/></a>"
      ]
    },
    {
      "cell_type": "code",
      "metadata": {
        "id": "R25wtNVmmqQr"
      },
      "source": [
        "#Ejemplo1\n",
        "for i in[1,2,3,5]:\n",
        "  print(f\"El elemento: {i}\")"
      ],
      "execution_count": null,
      "outputs": []
    },
    {
      "cell_type": "code",
      "metadata": {
        "id": "1bkq-2oCox06"
      },
      "source": [
        "coleccion=[1,2,3,4,5]\n",
        "for i in coleccion:\n",
        "  print(f\"El elemento:{i}\")"
      ],
      "execution_count": null,
      "outputs": []
    },
    {
      "cell_type": "code",
      "metadata": {
        "id": "Yg0xFwcs3lox"
      },
      "source": [
        "coleccion= {\"Alejandro\":20, \"Mariana\":19, \"Yess\":14, \"Lidia\":18} #usando un diccionario\n",
        "for i in coleccion:\n",
        "  print(f\"El elemento:{i}\")#solo imprime las claves"
      ],
      "execution_count": null,
      "outputs": []
    },
    {
      "cell_type": "code",
      "metadata": {
        "id": "im94iu_l3s6p"
      },
      "source": [
        "coleccion= {\"Alejandro\":20, \"Mariana\":19, \"Yess\":14, \"Lidia\":18} #usando un diccionario\n",
        "for i in coleccion:\n",
        "  print(f\"{coleccion[i]}\")"
      ],
      "execution_count": null,
      "outputs": []
    },
    {
      "cell_type": "code",
      "metadata": {
        "id": "TVZko8xT3whe"
      },
      "source": [
        "coleccion= {\"Alejandro\":20, \"Mariana\":19, \"Yess\":14, \"Lidia\":18} #usando un diccionario\n",
        "for i in coleccion:\n",
        "  print(f\"{i} ->{coleccion[i]}\")"
      ],
      "execution_count": null,
      "outputs": []
    },
    {
      "cell_type": "code",
      "metadata": {
        "id": "XwfwGd5B315N"
      },
      "source": [
        "coleccion= {\"Alejandro\":20, \"Mariana\":19, \"Yess\":14, \"Lidia\":18}\n",
        "for clave, valor in coleccion.items():\n",
        "  print(f\"{clave} -->{valor}\")"
      ],
      "execution_count": null,
      "outputs": []
    },
    {
      "cell_type": "code",
      "metadata": {
        "id": "fTME2TYH35CB"
      },
      "source": [
        "#Ejercicio 2\n",
        "email=False\n",
        "for i in \"arielgarcia@unam.mx\":\n",
        "  if (i==\"@\"):\n",
        "    email=True\n",
        "if email ==True:\n",
        "    print(\"El email es correcto\")\n",
        "else:\n",
        "    print(\"El email no es correcto\")"
      ],
      "execution_count": null,
      "outputs": []
    },
    {
      "cell_type": "code",
      "metadata": {
        "id": "MMUJm6nT39UR"
      },
      "source": [
        "email=False\n",
        "miEmail=input(\"Escribe tu correo electrónico:\")\n",
        "for i in miEmail:\n",
        "  if (i==\"@\"):\n",
        "    email=True\n",
        "if email ==True:\n",
        "    print(\"El email es correcto\")\n",
        "else:\n",
        "    print(\"El email no es correcto\")"
      ],
      "execution_count": null,
      "outputs": []
    },
    {
      "cell_type": "code",
      "metadata": {
        "id": "0RuPDsUR4GFr"
      },
      "source": [
        "#For-Range\n",
        "for i in range(5):\n",
        "  print(\"Hola\")"
      ],
      "execution_count": null,
      "outputs": []
    },
    {
      "cell_type": "code",
      "metadata": {
        "id": "IDx0lGAs4KZq"
      },
      "source": [
        "for i in range(5):\n",
        "  print(f\"valor de la varieable es {i}\")"
      ],
      "execution_count": null,
      "outputs": []
    },
    {
      "cell_type": "code",
      "metadata": {
        "id": "xlO3kwaW4Pbw"
      },
      "source": [
        "edad=int(input(\"Intoduce tu edad:\"))\n",
        "while edad <0:\n",
        "  print(\"has intriducido una edad negativa.Intentalo de nuevo\")\n",
        "  edad=int(input(\"Introduce tu edad:\"))\n",
        "print(\"Gracias por participar, puedes pasar\")\n",
        "print(\"Edad del concursante \"+str(edad))"
      ],
      "execution_count": null,
      "outputs": []
    }
  ]
}