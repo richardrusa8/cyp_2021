{
  "nbformat": 4,
  "nbformat_minor": 0,
  "metadata": {
    "colab": {
      "name": "Te damos la bienvenida a Colaboratory",
      "provenance": [],
      "collapsed_sections": [],
      "toc_visible": true,
      "include_colab_link": true
    },
    "kernelspec": {
      "display_name": "Python 3",
      "name": "python3"
    }
  },
  "cells": [
    {
      "cell_type": "markdown",
      "metadata": {
        "id": "view-in-github",
        "colab_type": "text"
      },
      "source": [
        "<a href=\"https://colab.research.google.com/github/richardrusa8/cyp_2021/blob/main/19_enero_2021.ipynb\" target=\"_parent\"><img src=\"https://colab.research.google.com/assets/colab-badge.svg\" alt=\"Open In Colab\"/></a>"
      ]
    },
    {
      "cell_type": "markdown",
      "metadata": {
        "id": "vq-mECwjBB-H"
      },
      "source": [
        "# Slicing continuacion\r\n",
        "\r\n",
        "\r\n",
        "```\r\n",
        "[inicio : stop : incremento]\r\n",
        "```\r\n",
        "Notas:\r\n",
        "\r\n",
        "1. El stop no esta incluido\r\n",
        "2. El incremento se puede modificar\r\n",
        "3. Soporta indexado negativo"
      ]
    },
    {
      "cell_type": "code",
      "metadata": {
        "id": "w4DkuhBXBGMn"
      },
      "source": [
        "frase= \"¿Cómo hacer a la gente mas positiva? Muy fácil, has que pierdan un electrón!\"\r\n",
        "print(frase)\r\n",
        "#imprimir ·ace· de la palabra hacer\r\n",
        "print(frase[ 6 : 9 : 1] )\r\n",
        "\r\n",
        "#valores por defecto \r\n",
        "#agarra al azar en uno\r\n",
        "print(frase[ : 5 : 2])\r\n",
        "print(len(frase))\r\n",
        "#incremento\r\n",
        "print(frase[ : :2 ]) #toda la frase\r\n",
        "print(frase[ -1 : : -1 ]) #inverso -77\r\n",
        "nombre=\"Juan Jose\" #indexado negativo\r\n",
        "print(nombre[1: :-1])\r\n",
        "primer=nombre[:4:]\r\n",
        "print(primer)\r\n",
        "print(nombre[-9::1])"
      ],
      "execution_count": null,
      "outputs": []
    },
    {
      "cell_type": "markdown",
      "metadata": {
        "id": "0ZlfqMblBJ-d"
      },
      "source": [
        "#La informacion de los metodos de la clase String\r\n",
        "En python todo es un obejto (P.O.O) significa que cada tipo de dato trae consigo metodos(funciones) incluidas\r\n",
        "\r\n",
        "Para identificar los metodos disponibles se puede usar una de dos funciones:\r\n",
        "\r\n",
        "1. dir(str) #dir hace un resumen de los metodos de esa clase\r\n",
        "2. help(str) #da la informacion completa de los metodosde esta clase. los nombres son metodos que inician con doble guion bajo, significa que son metodos privados (poo) y no tendria que usarlo como programador consumiudor los demas metodos son publicos y son de libre uso"
      ]
    },
    {
      "cell_type": "code",
      "metadata": {
        "id": "3sTVuMsoBOEf"
      },
      "source": [
        "nombre= \"Ricardo Rubio Santillán\"\r\n",
        "print(nombre)\r\n",
        "print(dir(str))\r\n",
        "print(nombre.islower()) #parentesis vacio significa toda la cadena \r\n",
        "print( help(str))"
      ],
      "execution_count": null,
      "outputs": []
    },
    {
      "cell_type": "code",
      "metadata": {
        "id": "anwqb5YhBVpi"
      },
      "source": [
        "print(nombre)\r\n",
        "print(nombre.islower())\r\n",
        "nombre = \"PEDRO FERNANDEZ\"\r\n",
        "print(nombre.capitalize())\r\n",
        "print(nombre.endswith(\"DEZ\"))\r\n",
        "print(nombre.replace(\"E\" , \"**********\"))\r\n",
        "ind_e = nombre.find(\"E\")\r\n",
        "print(ind_e)\r\n",
        "nombre = nombre[ : ind_e : ]+ \"@\" + nombre[ind_e+1: :]\r\n",
        "print(nombre)\r\n",
        "print(nombre.replace(\"E\",\"@\",0))\r\n",
        "print( nombre.lower())\r\n",
        "nombre = \"José\"\r\n",
        "print(nombre.upper())\r\n",
        "nombre = \"José josé el principe de la cancion\"\r\n",
        "print(nombre.count(\"José\"))"
      ],
      "execution_count": null,
      "outputs": []
    },
    {
      "cell_type": "code",
      "metadata": {
        "id": "ik4aerkkBb2P"
      },
      "source": [
        "#metodos para procesar strings \r\n",
        "numeros= \"2 , 1 , 3, 4 , 5    , 45 \"\r\n",
        "print(numeros)\r\n",
        "#como extraigo los numeros de la cadena\r\n",
        "#eliminar los espacios y al fnial con strip \r\n",
        "numeros= numeros.strip()\r\n",
        "print(numeros)\r\n",
        "print( help(str.strip))\r\n",
        "#tambien usar split, separo por comas, genera una lista e ingresa los elementos  \r\n",
        "numeros=numeros.split(\",\")\r\n",
        "print(numeros)\r\n",
        "#con un for, indice limpiar cadenas de la lista\r\n",
        "for indice in range( len(numeros)):\r\n",
        "  numeros[indice]=numeros[indice].strip()\r\n",
        "print(numeros)\r\n",
        "#convertirlo a tipo entero\r\n",
        "for indice in range( len(numeros)):\r\n",
        "  numeros[indice]=int(numeros[indice])\r\n",
        "print(numeros)\r\n",
        "#usae los numeros\r\n",
        "print( help(str.split))"
      ],
      "execution_count": null,
      "outputs": []
    }
  ]
}