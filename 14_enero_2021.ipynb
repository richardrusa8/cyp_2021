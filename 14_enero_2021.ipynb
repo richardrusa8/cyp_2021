{
  "nbformat": 4,
  "nbformat_minor": 0,
  "metadata": {
    "colab": {
      "name": "Te damos la bienvenida a Colaboratory",
      "provenance": [],
      "collapsed_sections": [],
      "include_colab_link": true
    },
    "kernelspec": {
      "display_name": "Python 3",
      "name": "python3"
    }
  },
  "cells": [
    {
      "cell_type": "markdown",
      "metadata": {
        "id": "view-in-github",
        "colab_type": "text"
      },
      "source": [
        "<a href=\"https://colab.research.google.com/github/richardrusa8/cyp_2021/blob/main/14_enero_2021.ipynb\" target=\"_parent\"><img src=\"https://colab.research.google.com/assets/colab-badge.svg\" alt=\"Open In Colab\"/></a>"
      ]
    },
    {
      "cell_type": "markdown",
      "metadata": {
        "id": "cbh96vFqpnHW"
      },
      "source": [
        "# Palabras reservadas de python 3\r\n",
        "False,None,True,and,as,assert,break,class,continue,def,del,elif,else,except,finally,for,from,global,if,import,in,is,lambda,nonlocal,not,or,pass,raise,return,try,while,with,yield"
      ]
    },
    {
      "cell_type": "code",
      "metadata": {
        "id": "oAhdeMFrpu6m"
      },
      "source": [
        "import keyword\r\n",
        "pr = keyword.kwlist\r\n",
        "print( len(pr))\r\n",
        "for palabra in pr:\r\n",
        "  print(\"1.-\",palabra)"
      ],
      "execution_count": null,
      "outputs": []
    },
    {
      "cell_type": "markdown",
      "metadata": {
        "id": "gA7nvsPopzC9"
      },
      "source": [
        "#Variable\r\n",
        "es un espacio de memoria de la computadora que cambia a lo largo de la ejecución del programa. Este espacio de memoria estaa referenciado por un identificado, el cual tiene ciertas reglas de nombrado.\r\n",
        "- No puede iniciar con número\r\n",
        "- No debe ser igual a una de las palabras reservadas.\r\n",
        "- Evitar nombres de variables largos.\r\n",
        "- Evitar muy cortos (x, y, z, i).\r\n",
        "- Usar notacion snake_case"
      ]
    },
    {
      "cell_type": "code",
      "metadata": {
        "id": "ORiGZz7GqISe"
      },
      "source": [
        "_2edad = 12\r\n",
        "print(_2edad)\r\n",
        "\r\n",
        "\"\"\"\r\n",
        "\r\n",
        "No se puede poner una palabra reservada como identificador de variable EJEMPLO:\r\n",
        "\r\n",
        "for = 14\r\n",
        "print(for)\r\n",
        "\r\n",
        "\"\"\""
      ],
      "execution_count": null,
      "outputs": []
    },
    {
      "cell_type": "code",
      "metadata": {
        "id": "i9ycLFXbqJLd"
      },
      "source": [
        "\"\"\"\r\n",
        "La notación snake-case consta de formar el identificador de variable separando \r\n",
        "las palabras del mismo con un guión bajo.\r\n",
        "\r\n",
        "Se recomienda que los idenitificadores se escriban en minúscula para las \r\n",
        "variables y en mayúscula para las constantes.\r\n",
        "\r\n",
        "Es decir, si tenemos una variable para los días de la semana, se escribiría así:\r\n",
        "\r\n",
        "dias_de_la_semana=7\r\n",
        "dias_mes=31\r\n",
        "\r\n",
        "\"\"\""
      ],
      "execution_count": null,
      "outputs": []
    },
    {
      "cell_type": "markdown",
      "metadata": {
        "id": "t91KAFSAqcXd"
      },
      "source": [
        "# Tipos de datos\r\n",
        "  - Númericos \r\n",
        "    - Int 4 bites (1, 2, 3, 20, 50, 3092, etc.) \r\n",
        "    - Float 4 bytes (0.001, 1.23, 5.66, etc)\r\n",
        "    - Long 8 bytes (1, 2.4356, etc)\r\n",
        "    - Complex 3 + 2j (Raices negativas)\r\n",
        "  - Booleano   True   o    False\r\n",
        "  - String cadenas de caracteres (\"cad\", \"cad  o  \"\"\"cad\"\"\"\") \r\n",
        "  - Listas ( [1, 2, 3, 4] , [a, b, 1, 2, 3])\r\n",
        "  - Tuplas (      (edad,23)  ,  (3, 4)     )\r\n",
        "  - Conjuntos\r\n",
        "  - Diccionarios ( {\"nombre \":\"Juan\"} )\r\n"
      ]
    },
    {
      "cell_type": "markdown",
      "metadata": {
        "id": "cu8pnG6Tq1f4"
      },
      "source": [
        "# Tipo de datos string\r\n",
        "\r\n",
        "Este tipo de dato permite almacear cadenas de caracteres, como por ejemplo:\r\n",
        "\r\n",
        "```\r\n",
        "Nombre = 'Ricardo'\r\n",
        "lugar_nacimiento = \"México D.F., Xochimilco \"\r\n",
        "frase_favorita =\r\n",
        "```"
      ]
    },
    {
      "cell_type": "code",
      "metadata": {
        "id": "7daUdcvMrEL9"
      },
      "source": [
        "nombre = 'Ricardo'\r\n",
        "lugar_nacimiento = \"México D.F., Xochimilco \"\r\n",
        "frase_favorita =\r\n",
        "print(nombre)\r\n",
        "print(lugar_nacimiento)\r\n",
        "print(frase_favorita)"
      ],
      "execution_count": null,
      "outputs": []
    },
    {
      "cell_type": "markdown",
      "metadata": {
        "id": "W-BOuY2lrMzm"
      },
      "source": [
        "# String como arreglo\r\n",
        "Un string en python es almacenado como el tipo de dato (Estructura de datos) arreglo.\r\n",
        "\r\n",
        "Por ejemplo la declaración:\r\n",
        "```\r\n",
        "nombre = `Ricardo`\r\n",
        "\r\n",
        "```\r\n",
        "El elemento \"J\" es almacenado como un arreglo en la posición 0\r\n",
        "La \"e\" en la 1 y asi consecutivamente\r\n",
        "\r\n",
        "### Selector\r\n",
        "La notación para seleccionar un elemento de arreglo es:\r\n",
        " \r\n",
        " ```\r\n",
        "[1]\r\n",
        "```\r\n",
        "Donde el valor interno debe ser un valor numerico entero:\r\n"
      ]
    },
    {
      "cell_type": "code",
      "metadata": {
        "id": "zwE6R9mOs3y4",
        "outputId": "88d4dede-f2a6-42b8-fbc6-8ace30857d27",
        "colab": {
          "base_uri": "https://localhost:8080/"
        }
      },
      "source": [
        "nombre = 'Ricardo'\r\n",
        "print(nombre)\r\n",
        "print( nombre[0])\r\n",
        "print( nombre[3])\r\n"
      ],
      "execution_count": 11,
      "outputs": [
        {
          "output_type": "stream",
          "text": [
            "Ricardo\n",
            "R\n",
            "a\n"
          ],
          "name": "stdout"
        }
      ]
    },
    {
      "cell_type": "markdown",
      "metadata": {
        "id": "cLM-y99GrS0t"
      },
      "source": [
        "# Iterar sobre un string\r\n",
        "\r\n",
        "Se puede iterar sobre un string con un for de la siguiente manera:\r\n",
        "\r\n",
        "```\r\n",
        "for letra in range ( len(nombre) ):\r\n",
        "  print(letra)\r\n",
        "```"
      ]
    },
    {
      "cell_type": "code",
      "metadata": {
        "id": "VO08Hr5NtDE9"
      },
      "source": [
        "for indice in range( len(nombre) ): #0, 1, 2, 3, 4\r\n",
        "  print( indice, end = \" \" )\r\n",
        "  print(nombre [indice] )"
      ],
      "execution_count": null,
      "outputs": []
    },
    {
      "cell_type": "markdown",
      "metadata": {
        "id": "jQ2fDr0ntJAV"
      },
      "source": [
        "#Funcion range(inicio, stop,incremento) \r\n",
        "El inicio es opcional y por defecto tiene el valor 0\r\n",
        "\r\n",
        "El incremento tambien es opcional y por defecto es 1"
      ]
    },
    {
      "cell_type": "code",
      "metadata": {
        "id": "8ej-CTkxtK3k",
        "outputId": "752f6396-833e-4ec7-b7f6-d00c1919fcea",
        "colab": {
          "base_uri": "https://localhost:8080/"
        }
      },
      "source": [
        "for indice in range(1, len(nombre) , 1) :\r\n",
        "  print(nombre[indice])"
      ],
      "execution_count": 12,
      "outputs": [
        {
          "output_type": "stream",
          "text": [
            "i\n",
            "c\n",
            "a\n",
            "r\n",
            "d\n",
            "o\n"
          ],
          "name": "stdout"
        }
      ]
    },
    {
      "cell_type": "code",
      "metadata": {
        "id": "XL1uG0hrtSg9",
        "outputId": "47c3b29a-bd34-4f54-ce48-60d8b8d5be6d",
        "colab": {
          "base_uri": "https://localhost:8080/"
        }
      },
      "source": [
        "for indice in range(3, -1 , -1) :\r\n",
        "  print(nombre[indice])"
      ],
      "execution_count": 13,
      "outputs": [
        {
          "output_type": "stream",
          "text": [
            "a\n",
            "c\n",
            "i\n",
            "R\n"
          ],
          "name": "stdout"
        }
      ]
    },
    {
      "cell_type": "markdown",
      "metadata": {
        "id": "lsKYFcXItXyO"
      },
      "source": [
        "#Strings e indexado negativo\r\n",
        "En python 3 se agrega una nueva caracteristicas a los arreglos de las cadenas de caracteres, esta consta de la capacidad de indexar de forma negativa. La logica es la siguiente.\r\n",
        "\r\n",
        "El ultimo elemento se le considera como indice (ALTERNATIVO) -1, con lo cual se podria referenciar el final de la cadena sin la necesidad de saber el tamaño de la misma.\r\n",
        "\r\n",
        "\r\n",
        "```\r\n",
        " nombre = 'Ricardo'\r\n",
        " \r\n",
        " \r\n",
        " Indice normal:       0  1  2  3  4  5  6\r\n",
        "                      R  i  c  a  r  d  o\r\n",
        " Indice Alternativo: -6 -5 -4 -3 -2 -1  0\r\n",
        "```"
      ]
    },
    {
      "cell_type": "code",
      "metadata": {
        "id": "VPo9LAGut5jc",
        "outputId": "2223d1ed-aaab-4b5b-f9f4-eac32e2db0c2",
        "colab": {
          "base_uri": "https://localhost:8080/"
        }
      },
      "source": [
        "nombre = \"Ricardo\"\r\n",
        "print( nombre[3] ) #Indexado Normal\r\n",
        "print( nombre[-1] ) #Indexado alternativo ( Negativo )\r\n",
        "print(\"\")\r\n",
        "for indice_alter in range(-1, -5 , -1):\r\n",
        "  print( nombre[indice_alter] )"
      ],
      "execution_count": 14,
      "outputs": [
        {
          "output_type": "stream",
          "text": [
            "a\n",
            "o\n",
            "\n",
            "o\n",
            "d\n",
            "r\n",
            "a\n"
          ],
          "name": "stdout"
        }
      ]
    },
    {
      "cell_type": "markdown",
      "metadata": {
        "id": "hlxVWv3RuBmO"
      },
      "source": [
        "#Slicing de cadenas de caracteres.\r\n",
        "Esta caracteristica permite sacar secciones de una cadena con la siguiente sintaxis:\r\n",
        "\r\n",
        "```\r\n",
        "[ inicio : stop : incremento ]\r\n",
        "```"
      ]
    },
    {
      "cell_type": "code",
      "metadata": {
        "id": "VVbX6iOZuFfB"
      },
      "source": [
        "facultad = \"Facultad de Estudios Superiores Aragon (La mejor)\"\r\n",
        "\r\n",
        "print(facultad)\r\n",
        "for indice in range(12, 20, 1):\r\n",
        "  print(facultad[indice] , end =\"\")\r\n",
        "\r\n",
        "  #Hacer esto mismo con la caracteristica Slicing se logra asi:\r\n",
        "print(\"\\nCon Slicing\")\r\n",
        "print(facultad[12:20:1])\r\n",
        "\r\n",
        "  #La palabra 'de' con slicing.\r\n",
        "\r\n",
        "print(facultad[9:11:1])\r\n",
        "\r\n",
        "#La frase 'La mejor' con indexing negativo y slicing:\r\n",
        "\r\n",
        "print(facultad[-9:-1])"
      ],
      "execution_count": null,
      "outputs": []
    }
  ]
}