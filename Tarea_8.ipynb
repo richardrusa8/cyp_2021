{
  "nbformat": 4,
  "nbformat_minor": 0,
  "metadata": {
    "colab": {
      "name": "Te damos la bienvenida a Colaboratory",
      "provenance": [],
      "collapsed_sections": [],
      "toc_visible": true,
      "include_colab_link": true
    },
    "kernelspec": {
      "display_name": "Python 3",
      "name": "python3"
    }
  },
  "cells": [
    {
      "cell_type": "markdown",
      "metadata": {
        "id": "view-in-github",
        "colab_type": "text"
      },
      "source": [
        "<a href=\"https://colab.research.google.com/github/richardrusa8/cyp_2021/blob/main/Tarea_8.ipynb\" target=\"_parent\"><img src=\"https://colab.research.google.com/assets/colab-badge.svg\" alt=\"Open In Colab\"/></a>"
      ]
    },
    {
      "cell_type": "code",
      "metadata": {
        "id": "eijZfEnh4hFh",
        "outputId": "92e0ec34-01ae-4e9d-ee44-aa6f1758d244",
        "colab": {
          "base_uri": "https://localhost:8080/"
        }
      },
      "source": [
        "#tarea 8\r\n",
        "\r\n",
        "print(\"\\u2501\\u2501\\u2501\\u2501\\u2501\\u2501\\u2501\\u2501\\u2501\\u2501\\u2501\\u2501\\u2501\\u2501\\u2501\\u2501\\u2501\\u2501\\u2501\\u2501\\u2501\\u2501\\u2501\\u2501\\u2501\\u2501\\u2501\\u2501\")\r\n",
        "print(\" \\u2503                                             \\u2503  \") \r\n",
        "print(\"  \\u2503  \\u0F20 \\u0F20 \\u0F20      \\u0F20 \\u0F20     \\u0F20    \\u0F20 \\u0F20 \\u0F20   \\u0F20  \\u0F20     \\u0F20 \\u0F20  \\u2503  \") \r\n",
        "print(\" \\u2503   \\u0F20  \\u0F20    \\u0F20 \\u0F20       \\u0F20 \\u0F20   \\u0F20  \\u0F20    \\u0F20   \\u0F20  \\u0F20    \\u0F20  \\u2503  \") \r\n",
        "print(\"  \\u2503  \\u0F20 \\u0F20     \\u0F20 \\u0F20      \\u0F20 \\u0F20 \\u0F20  \\u0F20 \\u0F20     \\u0F20    \\u0F20 \\u0F20     \\u0F20\\u2503  \") \r\n",
        "print(\" \\u2503   \\u0F20  \\u0F20    \\u0F20 \\u0F20     \\u0F20    \\u0F20  \\u0F20  \\u0F20    \\u0F20   \\u0F20  \\u0F20    \\u0F20  \\u2503  \") \r\n",
        "print(\"  \\u2503  \\u0F20   \\u0F20   \\u0F20  \\u0F20 \\u0F20  \\u0F20     \\u0F20 \\u0F20    \\u0F20  \\u0F20  \\u0F20     \\u0F20 \\u0F20  \\u2503  \") \r\n",
        "print(\"\\u2501\\u2501\\u2501\\u2501\\u2501\\u2501\\u2501\\u2501\\u2501\\u2501\\u2501\\u2501\\u2501\\u2501\\u2501\\u2501\\u2501\\u2501\\u2501\\u2501\\u2501\\u2501\\u2501\\u2501\\u2501\\u2501\\u2501\\u2501\")\r\n",
        "\r\n",
        "\r\n"
      ],
      "execution_count": 1,
      "outputs": [
        {
          "output_type": "stream",
          "text": [
            "━━━━━━━━━━━━━━━━━━━━━━━━━━━━\n",
            " ┃                                             ┃  \n",
            "  ┃  ༠ ༠ ༠      ༠ ༠     ༠    ༠ ༠ ༠   ༠  ༠     ༠ ༠  ┃  \n",
            " ┃   ༠  ༠    ༠ ༠       ༠ ༠   ༠  ༠    ༠   ༠  ༠    ༠  ┃  \n",
            "  ┃  ༠ ༠     ༠ ༠      ༠ ༠ ༠  ༠ ༠     ༠    ༠ ༠     ༠┃  \n",
            " ┃   ༠  ༠    ༠ ༠     ༠    ༠  ༠  ༠    ༠   ༠  ༠    ༠  ┃  \n",
            "  ┃  ༠   ༠   ༠  ༠ ༠  ༠     ༠ ༠    ༠  ༠  ༠     ༠ ༠  ┃  \n",
            "━━━━━━━━━━━━━━━━━━━━━━━━━━━━\n"
          ],
          "name": "stdout"
        }
      ]
    }
  ]
}